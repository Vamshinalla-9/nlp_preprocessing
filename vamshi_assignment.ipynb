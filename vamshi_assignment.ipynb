{
  "nbformat": 4,
  "nbformat_minor": 0,
  "metadata": {
    "colab": {
      "provenance": []
    },
    "kernelspec": {
      "name": "python3",
      "display_name": "Python 3"
    },
    "language_info": {
      "name": "python"
    }
  },
  "cells": [
    {
      "cell_type": "code",
      "execution_count": 1,
      "metadata": {
        "id": "2jVxAhb6j3Im"
      },
      "outputs": [],
      "source": [
        "from google.colab import drive"
      ]
    },
    {
      "cell_type": "code",
      "source": [
        "drive.mount('/content/drive')"
      ],
      "metadata": {
        "colab": {
          "base_uri": "https://localhost:8080/"
        },
        "id": "8cBVeQU2lx8S",
        "outputId": "c4c4a77a-a967-4bdd-a4f1-3fce0fdc08de"
      },
      "execution_count": 2,
      "outputs": [
        {
          "output_type": "stream",
          "name": "stdout",
          "text": [
            "Drive already mounted at /content/drive; to attempt to forcibly remount, call drive.mount(\"/content/drive\", force_remount=True).\n"
          ]
        }
      ]
    },
    {
      "cell_type": "code",
      "source": [
        "import pandas as pd\n",
        "\n",
        "data1 = pd.read_csv(\"/content/drive/MyDrive/data/twcs.csv\")"
      ],
      "metadata": {
        "id": "rbtPdPxwl76j"
      },
      "execution_count": 3,
      "outputs": []
    },
    {
      "cell_type": "code",
      "source": [
        "data = data1.iloc[:500]"
      ],
      "metadata": {
        "id": "Wl96u6UWnHnj"
      },
      "execution_count": 4,
      "outputs": []
    },
    {
      "cell_type": "code",
      "source": [
        "data.sample(10)"
      ],
      "metadata": {
        "colab": {
          "base_uri": "https://localhost:8080/",
          "height": 363
        },
        "id": "UWwN-Qp9wnJ6",
        "outputId": "3d26550e-27f9-4e7a-a8f8-d282231f59f9"
      },
      "execution_count": 5,
      "outputs": [
        {
          "output_type": "execute_result",
          "data": {
            "text/plain": [
              "     tweet_id     author_id  inbound                      created_at  \\\n",
              "470       775        115875     True  Tue Oct 31 21:59:51 +0000 2017   \n",
              "390       689    AmazonHelp    False  Tue Oct 31 21:54:32 +0000 2017   \n",
              "396       696  AppleSupport    False  Tue Oct 31 22:27:49 +0000 2017   \n",
              "9          15    sprintcare    False  Tue Oct 31 20:03:31 +0000 2017   \n",
              "198       287     AdobeCare    False  Thu Oct 26 19:03:22 +0000 2017   \n",
              "149       235    ATVIAssist    False  Tue Oct 31 21:53:44 +0000 2017   \n",
              "277       384        115804     True  Tue Oct 31 22:08:05 +0000 2017   \n",
              "443       747        115865     True  Tue Oct 31 18:08:04 +0000 2017   \n",
              "280       385        115804     True  Tue Oct 31 21:28:45 +0000 2017   \n",
              "439       740        115865     True  Tue Oct 31 22:14:45 +0000 2017   \n",
              "\n",
              "                                                  text response_tweet_id  \\\n",
              "470  @Uber_Support I’m not getting your texts. http...               774   \n",
              "390  @115849 Please report this to our support team...               686   \n",
              "396  @115854 We're here for you. Which version of t...               697   \n",
              "9    @115713 We understand your concerns and we'd l...                12   \n",
              "198  @115776 Unfortunately, we are not able to repr...               285   \n",
              "149  @115763 Can you please give me your gamertag /...               236   \n",
              "277  @Morrisons That's pointless as it's every day,...               386   \n",
              "443  Hola @AppleSupport necesito urgente la actuali...               746   \n",
              "280  @Morrisons so fed up of this very familiar sig...               383   \n",
              "439                      @AppleSupport iPhone 7 Plus 😊               738   \n",
              "\n",
              "     in_response_to_tweet_id  \n",
              "470                      NaN  \n",
              "390                    690.0  \n",
              "396                    698.0  \n",
              "9                       16.0  \n",
              "198                    288.0  \n",
              "149                    237.0  \n",
              "277                    383.0  \n",
              "443                      NaN  \n",
              "280                      NaN  \n",
              "439                    744.0  "
            ],
            "text/html": [
              "\n",
              "  <div id=\"df-d9d6b4de-d1b9-4785-b813-73bf31ec671e\" class=\"colab-df-container\">\n",
              "    <div>\n",
              "<style scoped>\n",
              "    .dataframe tbody tr th:only-of-type {\n",
              "        vertical-align: middle;\n",
              "    }\n",
              "\n",
              "    .dataframe tbody tr th {\n",
              "        vertical-align: top;\n",
              "    }\n",
              "\n",
              "    .dataframe thead th {\n",
              "        text-align: right;\n",
              "    }\n",
              "</style>\n",
              "<table border=\"1\" class=\"dataframe\">\n",
              "  <thead>\n",
              "    <tr style=\"text-align: right;\">\n",
              "      <th></th>\n",
              "      <th>tweet_id</th>\n",
              "      <th>author_id</th>\n",
              "      <th>inbound</th>\n",
              "      <th>created_at</th>\n",
              "      <th>text</th>\n",
              "      <th>response_tweet_id</th>\n",
              "      <th>in_response_to_tweet_id</th>\n",
              "    </tr>\n",
              "  </thead>\n",
              "  <tbody>\n",
              "    <tr>\n",
              "      <th>470</th>\n",
              "      <td>775</td>\n",
              "      <td>115875</td>\n",
              "      <td>True</td>\n",
              "      <td>Tue Oct 31 21:59:51 +0000 2017</td>\n",
              "      <td>@Uber_Support I’m not getting your texts. http...</td>\n",
              "      <td>774</td>\n",
              "      <td>NaN</td>\n",
              "    </tr>\n",
              "    <tr>\n",
              "      <th>390</th>\n",
              "      <td>689</td>\n",
              "      <td>AmazonHelp</td>\n",
              "      <td>False</td>\n",
              "      <td>Tue Oct 31 21:54:32 +0000 2017</td>\n",
              "      <td>@115849 Please report this to our support team...</td>\n",
              "      <td>686</td>\n",
              "      <td>690.0</td>\n",
              "    </tr>\n",
              "    <tr>\n",
              "      <th>396</th>\n",
              "      <td>696</td>\n",
              "      <td>AppleSupport</td>\n",
              "      <td>False</td>\n",
              "      <td>Tue Oct 31 22:27:49 +0000 2017</td>\n",
              "      <td>@115854 We're here for you. Which version of t...</td>\n",
              "      <td>697</td>\n",
              "      <td>698.0</td>\n",
              "    </tr>\n",
              "    <tr>\n",
              "      <th>9</th>\n",
              "      <td>15</td>\n",
              "      <td>sprintcare</td>\n",
              "      <td>False</td>\n",
              "      <td>Tue Oct 31 20:03:31 +0000 2017</td>\n",
              "      <td>@115713 We understand your concerns and we'd l...</td>\n",
              "      <td>12</td>\n",
              "      <td>16.0</td>\n",
              "    </tr>\n",
              "    <tr>\n",
              "      <th>198</th>\n",
              "      <td>287</td>\n",
              "      <td>AdobeCare</td>\n",
              "      <td>False</td>\n",
              "      <td>Thu Oct 26 19:03:22 +0000 2017</td>\n",
              "      <td>@115776 Unfortunately, we are not able to repr...</td>\n",
              "      <td>285</td>\n",
              "      <td>288.0</td>\n",
              "    </tr>\n",
              "    <tr>\n",
              "      <th>149</th>\n",
              "      <td>235</td>\n",
              "      <td>ATVIAssist</td>\n",
              "      <td>False</td>\n",
              "      <td>Tue Oct 31 21:53:44 +0000 2017</td>\n",
              "      <td>@115763 Can you please give me your gamertag /...</td>\n",
              "      <td>236</td>\n",
              "      <td>237.0</td>\n",
              "    </tr>\n",
              "    <tr>\n",
              "      <th>277</th>\n",
              "      <td>384</td>\n",
              "      <td>115804</td>\n",
              "      <td>True</td>\n",
              "      <td>Tue Oct 31 22:08:05 +0000 2017</td>\n",
              "      <td>@Morrisons That's pointless as it's every day,...</td>\n",
              "      <td>386</td>\n",
              "      <td>383.0</td>\n",
              "    </tr>\n",
              "    <tr>\n",
              "      <th>443</th>\n",
              "      <td>747</td>\n",
              "      <td>115865</td>\n",
              "      <td>True</td>\n",
              "      <td>Tue Oct 31 18:08:04 +0000 2017</td>\n",
              "      <td>Hola @AppleSupport necesito urgente la actuali...</td>\n",
              "      <td>746</td>\n",
              "      <td>NaN</td>\n",
              "    </tr>\n",
              "    <tr>\n",
              "      <th>280</th>\n",
              "      <td>385</td>\n",
              "      <td>115804</td>\n",
              "      <td>True</td>\n",
              "      <td>Tue Oct 31 21:28:45 +0000 2017</td>\n",
              "      <td>@Morrisons so fed up of this very familiar sig...</td>\n",
              "      <td>383</td>\n",
              "      <td>NaN</td>\n",
              "    </tr>\n",
              "    <tr>\n",
              "      <th>439</th>\n",
              "      <td>740</td>\n",
              "      <td>115865</td>\n",
              "      <td>True</td>\n",
              "      <td>Tue Oct 31 22:14:45 +0000 2017</td>\n",
              "      <td>@AppleSupport iPhone 7 Plus 😊</td>\n",
              "      <td>738</td>\n",
              "      <td>744.0</td>\n",
              "    </tr>\n",
              "  </tbody>\n",
              "</table>\n",
              "</div>\n",
              "    <div class=\"colab-df-buttons\">\n",
              "\n",
              "  <div class=\"colab-df-container\">\n",
              "    <button class=\"colab-df-convert\" onclick=\"convertToInteractive('df-d9d6b4de-d1b9-4785-b813-73bf31ec671e')\"\n",
              "            title=\"Convert this dataframe to an interactive table.\"\n",
              "            style=\"display:none;\">\n",
              "\n",
              "  <svg xmlns=\"http://www.w3.org/2000/svg\" height=\"24px\" viewBox=\"0 -960 960 960\">\n",
              "    <path d=\"M120-120v-720h720v720H120Zm60-500h600v-160H180v160Zm220 220h160v-160H400v160Zm0 220h160v-160H400v160ZM180-400h160v-160H180v160Zm440 0h160v-160H620v160ZM180-180h160v-160H180v160Zm440 0h160v-160H620v160Z\"/>\n",
              "  </svg>\n",
              "    </button>\n",
              "\n",
              "  <style>\n",
              "    .colab-df-container {\n",
              "      display:flex;\n",
              "      gap: 12px;\n",
              "    }\n",
              "\n",
              "    .colab-df-convert {\n",
              "      background-color: #E8F0FE;\n",
              "      border: none;\n",
              "      border-radius: 50%;\n",
              "      cursor: pointer;\n",
              "      display: none;\n",
              "      fill: #1967D2;\n",
              "      height: 32px;\n",
              "      padding: 0 0 0 0;\n",
              "      width: 32px;\n",
              "    }\n",
              "\n",
              "    .colab-df-convert:hover {\n",
              "      background-color: #E2EBFA;\n",
              "      box-shadow: 0px 1px 2px rgba(60, 64, 67, 0.3), 0px 1px 3px 1px rgba(60, 64, 67, 0.15);\n",
              "      fill: #174EA6;\n",
              "    }\n",
              "\n",
              "    .colab-df-buttons div {\n",
              "      margin-bottom: 4px;\n",
              "    }\n",
              "\n",
              "    [theme=dark] .colab-df-convert {\n",
              "      background-color: #3B4455;\n",
              "      fill: #D2E3FC;\n",
              "    }\n",
              "\n",
              "    [theme=dark] .colab-df-convert:hover {\n",
              "      background-color: #434B5C;\n",
              "      box-shadow: 0px 1px 3px 1px rgba(0, 0, 0, 0.15);\n",
              "      filter: drop-shadow(0px 1px 2px rgba(0, 0, 0, 0.3));\n",
              "      fill: #FFFFFF;\n",
              "    }\n",
              "  </style>\n",
              "\n",
              "    <script>\n",
              "      const buttonEl =\n",
              "        document.querySelector('#df-d9d6b4de-d1b9-4785-b813-73bf31ec671e button.colab-df-convert');\n",
              "      buttonEl.style.display =\n",
              "        google.colab.kernel.accessAllowed ? 'block' : 'none';\n",
              "\n",
              "      async function convertToInteractive(key) {\n",
              "        const element = document.querySelector('#df-d9d6b4de-d1b9-4785-b813-73bf31ec671e');\n",
              "        const dataTable =\n",
              "          await google.colab.kernel.invokeFunction('convertToInteractive',\n",
              "                                                    [key], {});\n",
              "        if (!dataTable) return;\n",
              "\n",
              "        const docLinkHtml = 'Like what you see? Visit the ' +\n",
              "          '<a target=\"_blank\" href=https://colab.research.google.com/notebooks/data_table.ipynb>data table notebook</a>'\n",
              "          + ' to learn more about interactive tables.';\n",
              "        element.innerHTML = '';\n",
              "        dataTable['output_type'] = 'display_data';\n",
              "        await google.colab.output.renderOutput(dataTable, element);\n",
              "        const docLink = document.createElement('div');\n",
              "        docLink.innerHTML = docLinkHtml;\n",
              "        element.appendChild(docLink);\n",
              "      }\n",
              "    </script>\n",
              "  </div>\n",
              "\n",
              "\n",
              "<div id=\"df-772da2cd-a7df-47f4-9a7d-12fbcbc43054\">\n",
              "  <button class=\"colab-df-quickchart\" onclick=\"quickchart('df-772da2cd-a7df-47f4-9a7d-12fbcbc43054')\"\n",
              "            title=\"Suggest charts\"\n",
              "            style=\"display:none;\">\n",
              "\n",
              "<svg xmlns=\"http://www.w3.org/2000/svg\" height=\"24px\"viewBox=\"0 0 24 24\"\n",
              "     width=\"24px\">\n",
              "    <g>\n",
              "        <path d=\"M19 3H5c-1.1 0-2 .9-2 2v14c0 1.1.9 2 2 2h14c1.1 0 2-.9 2-2V5c0-1.1-.9-2-2-2zM9 17H7v-7h2v7zm4 0h-2V7h2v10zm4 0h-2v-4h2v4z\"/>\n",
              "    </g>\n",
              "</svg>\n",
              "  </button>\n",
              "\n",
              "<style>\n",
              "  .colab-df-quickchart {\n",
              "      --bg-color: #E8F0FE;\n",
              "      --fill-color: #1967D2;\n",
              "      --hover-bg-color: #E2EBFA;\n",
              "      --hover-fill-color: #174EA6;\n",
              "      --disabled-fill-color: #AAA;\n",
              "      --disabled-bg-color: #DDD;\n",
              "  }\n",
              "\n",
              "  [theme=dark] .colab-df-quickchart {\n",
              "      --bg-color: #3B4455;\n",
              "      --fill-color: #D2E3FC;\n",
              "      --hover-bg-color: #434B5C;\n",
              "      --hover-fill-color: #FFFFFF;\n",
              "      --disabled-bg-color: #3B4455;\n",
              "      --disabled-fill-color: #666;\n",
              "  }\n",
              "\n",
              "  .colab-df-quickchart {\n",
              "    background-color: var(--bg-color);\n",
              "    border: none;\n",
              "    border-radius: 50%;\n",
              "    cursor: pointer;\n",
              "    display: none;\n",
              "    fill: var(--fill-color);\n",
              "    height: 32px;\n",
              "    padding: 0;\n",
              "    width: 32px;\n",
              "  }\n",
              "\n",
              "  .colab-df-quickchart:hover {\n",
              "    background-color: var(--hover-bg-color);\n",
              "    box-shadow: 0 1px 2px rgba(60, 64, 67, 0.3), 0 1px 3px 1px rgba(60, 64, 67, 0.15);\n",
              "    fill: var(--button-hover-fill-color);\n",
              "  }\n",
              "\n",
              "  .colab-df-quickchart-complete:disabled,\n",
              "  .colab-df-quickchart-complete:disabled:hover {\n",
              "    background-color: var(--disabled-bg-color);\n",
              "    fill: var(--disabled-fill-color);\n",
              "    box-shadow: none;\n",
              "  }\n",
              "\n",
              "  .colab-df-spinner {\n",
              "    border: 2px solid var(--fill-color);\n",
              "    border-color: transparent;\n",
              "    border-bottom-color: var(--fill-color);\n",
              "    animation:\n",
              "      spin 1s steps(1) infinite;\n",
              "  }\n",
              "\n",
              "  @keyframes spin {\n",
              "    0% {\n",
              "      border-color: transparent;\n",
              "      border-bottom-color: var(--fill-color);\n",
              "      border-left-color: var(--fill-color);\n",
              "    }\n",
              "    20% {\n",
              "      border-color: transparent;\n",
              "      border-left-color: var(--fill-color);\n",
              "      border-top-color: var(--fill-color);\n",
              "    }\n",
              "    30% {\n",
              "      border-color: transparent;\n",
              "      border-left-color: var(--fill-color);\n",
              "      border-top-color: var(--fill-color);\n",
              "      border-right-color: var(--fill-color);\n",
              "    }\n",
              "    40% {\n",
              "      border-color: transparent;\n",
              "      border-right-color: var(--fill-color);\n",
              "      border-top-color: var(--fill-color);\n",
              "    }\n",
              "    60% {\n",
              "      border-color: transparent;\n",
              "      border-right-color: var(--fill-color);\n",
              "    }\n",
              "    80% {\n",
              "      border-color: transparent;\n",
              "      border-right-color: var(--fill-color);\n",
              "      border-bottom-color: var(--fill-color);\n",
              "    }\n",
              "    90% {\n",
              "      border-color: transparent;\n",
              "      border-bottom-color: var(--fill-color);\n",
              "    }\n",
              "  }\n",
              "</style>\n",
              "\n",
              "  <script>\n",
              "    async function quickchart(key) {\n",
              "      const quickchartButtonEl =\n",
              "        document.querySelector('#' + key + ' button');\n",
              "      quickchartButtonEl.disabled = true;  // To prevent multiple clicks.\n",
              "      quickchartButtonEl.classList.add('colab-df-spinner');\n",
              "      try {\n",
              "        const charts = await google.colab.kernel.invokeFunction(\n",
              "            'suggestCharts', [key], {});\n",
              "      } catch (error) {\n",
              "        console.error('Error during call to suggestCharts:', error);\n",
              "      }\n",
              "      quickchartButtonEl.classList.remove('colab-df-spinner');\n",
              "      quickchartButtonEl.classList.add('colab-df-quickchart-complete');\n",
              "    }\n",
              "    (() => {\n",
              "      let quickchartButtonEl =\n",
              "        document.querySelector('#df-772da2cd-a7df-47f4-9a7d-12fbcbc43054 button');\n",
              "      quickchartButtonEl.style.display =\n",
              "        google.colab.kernel.accessAllowed ? 'block' : 'none';\n",
              "    })();\n",
              "  </script>\n",
              "</div>\n",
              "\n",
              "    </div>\n",
              "  </div>\n"
            ]
          },
          "metadata": {},
          "execution_count": 5
        }
      ]
    },
    {
      "cell_type": "markdown",
      "source": [
        "# removing HTML and different sorts of Weblinks"
      ],
      "metadata": {
        "id": "0oZYo6O7DrAz"
      }
    },
    {
      "cell_type": "code",
      "source": [
        "import re\n",
        "\n",
        "def remove_html_and_links(text):\n",
        "    # Remove HTML tags\n",
        "    text = re.sub(r'<[^>]*>', '', text)\n",
        "\n",
        "    # Remove web links\n",
        "    text = re.sub(r'http[s]?://(?:[a-zA-Z]|[0-9]|[$-_@.&+]|[!*\\\\(\\\\),]|(?:%[0-9a-fA-F][0-9a-fA-F]))+', '', text)\n",
        "\n",
        "    # Remove Google search links\n",
        "    text = re.sub(r'\\b(?:https?://|www\\.)\\S+\\b', '', text)\n",
        "\n",
        "    return text"
      ],
      "metadata": {
        "id": "qWPs3IhTnPqi"
      },
      "execution_count": 6,
      "outputs": []
    },
    {
      "cell_type": "code",
      "source": [
        "data.text = data.text.apply(remove_html_and_links)"
      ],
      "metadata": {
        "colab": {
          "base_uri": "https://localhost:8080/"
        },
        "id": "p_MfZ2LaBu1Z",
        "outputId": "2bc6fc10-1972-4ccc-be5e-ce144cee05cc"
      },
      "execution_count": 7,
      "outputs": [
        {
          "output_type": "stream",
          "name": "stderr",
          "text": [
            "<ipython-input-7-25455b4f398d>:1: SettingWithCopyWarning: \n",
            "A value is trying to be set on a copy of a slice from a DataFrame.\n",
            "Try using .loc[row_indexer,col_indexer] = value instead\n",
            "\n",
            "See the caveats in the documentation: https://pandas.pydata.org/pandas-docs/stable/user_guide/indexing.html#returning-a-view-versus-a-copy\n",
            "  data.text = data.text.apply(remove_html_and_links)\n"
          ]
        }
      ]
    },
    {
      "cell_type": "markdown",
      "source": [
        "# camel casing the words"
      ],
      "metadata": {
        "id": "QAnmCbQrEO2B"
      }
    },
    {
      "cell_type": "code",
      "source": [
        "def split_camel_case(word):\n",
        "    # Use regular expression to split camel case words\n",
        "    # This pattern matches where a lowercase letter is followed by an uppercase letter\n",
        "    # or where an uppercase letter is followed by one or more lowercase letters\n",
        "    parts = re.findall(r'[A-Z]?[a-z]+|[A-Z]+(?=[A-Z]|$)', word)\n",
        "    return ' '.join(parts)"
      ],
      "metadata": {
        "id": "qAyXaQfP8LPU"
      },
      "execution_count": 8,
      "outputs": []
    },
    {
      "cell_type": "code",
      "source": [
        "data[\"text\"] = data[\"text\"].apply(split_camel_case)"
      ],
      "metadata": {
        "colab": {
          "base_uri": "https://localhost:8080/"
        },
        "id": "omOqiQGr8NQf",
        "outputId": "c134ba80-7de5-4b96-c9a1-7304262dcc34"
      },
      "execution_count": 9,
      "outputs": [
        {
          "output_type": "stream",
          "name": "stderr",
          "text": [
            "<ipython-input-9-ba614e148c0e>:1: SettingWithCopyWarning: \n",
            "A value is trying to be set on a copy of a slice from a DataFrame.\n",
            "Try using .loc[row_indexer,col_indexer] = value instead\n",
            "\n",
            "See the caveats in the documentation: https://pandas.pydata.org/pandas-docs/stable/user_guide/indexing.html#returning-a-view-versus-a-copy\n",
            "  data[\"text\"] = data[\"text\"].apply(split_camel_case)\n"
          ]
        }
      ]
    },
    {
      "cell_type": "markdown",
      "source": [
        "### The text contains the japanese language converting into English inorder understand the corpus clearly for the further study"
      ],
      "metadata": {
        "id": "LIJOx-2VEVGN"
      }
    },
    {
      "cell_type": "code",
      "source": [
        "pip install langdetect"
      ],
      "metadata": {
        "colab": {
          "base_uri": "https://localhost:8080/"
        },
        "id": "ukqmJZBtiJdZ",
        "outputId": "0cbb711a-3dca-4799-d8ac-c7eec201aa02"
      },
      "execution_count": 10,
      "outputs": [
        {
          "output_type": "stream",
          "name": "stdout",
          "text": [
            "Requirement already satisfied: langdetect in /usr/local/lib/python3.10/dist-packages (1.0.9)\n",
            "Requirement already satisfied: six in /usr/local/lib/python3.10/dist-packages (from langdetect) (1.16.0)\n"
          ]
        }
      ]
    },
    {
      "cell_type": "code",
      "source": [
        " pip install googletrans"
      ],
      "metadata": {
        "colab": {
          "base_uri": "https://localhost:8080/"
        },
        "id": "NX1MGVsditTw",
        "outputId": "6d6f7172-6ff4-4364-9fd5-479d05e382d6"
      },
      "execution_count": 11,
      "outputs": [
        {
          "output_type": "stream",
          "name": "stdout",
          "text": [
            "Requirement already satisfied: googletrans in /usr/local/lib/python3.10/dist-packages (3.0.0)\n",
            "Requirement already satisfied: httpx==0.13.3 in /usr/local/lib/python3.10/dist-packages (from googletrans) (0.13.3)\n",
            "Requirement already satisfied: certifi in /usr/local/lib/python3.10/dist-packages (from httpx==0.13.3->googletrans) (2024.2.2)\n",
            "Requirement already satisfied: hstspreload in /usr/local/lib/python3.10/dist-packages (from httpx==0.13.3->googletrans) (2024.2.1)\n",
            "Requirement already satisfied: sniffio in /usr/local/lib/python3.10/dist-packages (from httpx==0.13.3->googletrans) (1.3.0)\n",
            "Requirement already satisfied: chardet==3.* in /usr/local/lib/python3.10/dist-packages (from httpx==0.13.3->googletrans) (3.0.4)\n",
            "Requirement already satisfied: idna==2.* in /usr/local/lib/python3.10/dist-packages (from httpx==0.13.3->googletrans) (2.10)\n",
            "Requirement already satisfied: rfc3986<2,>=1.3 in /usr/local/lib/python3.10/dist-packages (from httpx==0.13.3->googletrans) (1.5.0)\n",
            "Requirement already satisfied: httpcore==0.9.* in /usr/local/lib/python3.10/dist-packages (from httpx==0.13.3->googletrans) (0.9.1)\n",
            "Requirement already satisfied: h11<0.10,>=0.8 in /usr/local/lib/python3.10/dist-packages (from httpcore==0.9.*->httpx==0.13.3->googletrans) (0.9.0)\n",
            "Requirement already satisfied: h2==3.* in /usr/local/lib/python3.10/dist-packages (from httpcore==0.9.*->httpx==0.13.3->googletrans) (3.2.0)\n",
            "Requirement already satisfied: hyperframe<6,>=5.2.0 in /usr/local/lib/python3.10/dist-packages (from h2==3.*->httpcore==0.9.*->httpx==0.13.3->googletrans) (5.2.0)\n",
            "Requirement already satisfied: hpack<4,>=3.0 in /usr/local/lib/python3.10/dist-packages (from h2==3.*->httpcore==0.9.*->httpx==0.13.3->googletrans) (3.0.0)\n"
          ]
        }
      ]
    },
    {
      "cell_type": "code",
      "source": [
        "from langdetect import detect\n",
        "from googletrans import Translator\n",
        "\n",
        "def translate_japanese_sentences(text):\n",
        "    translator = Translator()\n",
        "\n",
        "    # Split text into sentences\n",
        "    sentences = text.split('.')\n",
        "\n",
        "    translated_text = []\n",
        "\n",
        "    for sentence in sentences:\n",
        "        # Detect language of the sentence\n",
        "        try:\n",
        "            lang = detect(sentence)\n",
        "        except:\n",
        "            # If language detection fails, assume it's English\n",
        "            lang = 'en'\n",
        "\n",
        "        # If the detected language is Japanese, translate to English\n",
        "        if lang == 'ja':\n",
        "            translated_sentence = translator.translate(sentence, src='ja', dest='en').text\n",
        "            translated_text.append(translated_sentence)\n",
        "        else:\n",
        "            translated_text.append(sentence)\n",
        "\n",
        "    # Join translated sentences back into a text\n",
        "    translated_text = '. '.join(translated_text)\n",
        "\n",
        "    return translated_text\n",
        "\n",
        "# Example usage:\n",
        "mixed_text = \"This is an example sentence in English. これは日本語の例文です。 This is another English sentence.\"\n",
        "translated_text = translate_japanese_sentences(mixed_text)\n",
        "print(\"Translated text:\", translated_text)"
      ],
      "metadata": {
        "colab": {
          "base_uri": "https://localhost:8080/"
        },
        "id": "Z0LuGyUc2711",
        "outputId": "ab0ba75f-2f09-4471-84f9-4ba97c87c3fa"
      },
      "execution_count": 12,
      "outputs": [
        {
          "output_type": "stream",
          "name": "stdout",
          "text": [
            "Translated text: This is an example sentence in English.  これは日本語の例文です。 This is another English sentence. \n"
          ]
        }
      ]
    },
    {
      "cell_type": "code",
      "source": [
        "data[\"text\"] = data[\"text\"].apply(translate_japanese_sentences)"
      ],
      "metadata": {
        "colab": {
          "base_uri": "https://localhost:8080/"
        },
        "id": "Ljot1MGe354o",
        "outputId": "12e45ca0-8cd8-4da5-a631-1d8b9cc81443"
      },
      "execution_count": 13,
      "outputs": [
        {
          "output_type": "stream",
          "name": "stderr",
          "text": [
            "<ipython-input-13-4322ca367f3d>:1: SettingWithCopyWarning: \n",
            "A value is trying to be set on a copy of a slice from a DataFrame.\n",
            "Try using .loc[row_indexer,col_indexer] = value instead\n",
            "\n",
            "See the caveats in the documentation: https://pandas.pydata.org/pandas-docs/stable/user_guide/indexing.html#returning-a-view-versus-a-copy\n",
            "  data[\"text\"] = data[\"text\"].apply(translate_japanese_sentences)\n"
          ]
        }
      ]
    },
    {
      "cell_type": "markdown",
      "source": [
        "# Lowercaseing the words and sentence"
      ],
      "metadata": {
        "id": "Oqibjb1TEyFT"
      }
    },
    {
      "cell_type": "code",
      "source": [
        "def lowercase_text(text):\n",
        "    # Convert the text to lowercase\n",
        "    lowercase_text = text.lower()\n",
        "\n",
        "    return lowercase_text\n",
        "\n",
        "data[\"text\"] = data[\"text\"].apply(lowercase_text)"
      ],
      "metadata": {
        "colab": {
          "base_uri": "https://localhost:8080/"
        },
        "id": "8x2WX4kSCpvb",
        "outputId": "cfc1a1c3-2fe6-4d2b-ee5e-e256469e730b"
      },
      "execution_count": 14,
      "outputs": [
        {
          "output_type": "stream",
          "name": "stderr",
          "text": [
            "<ipython-input-14-b7edae9414f1>:7: SettingWithCopyWarning: \n",
            "A value is trying to be set on a copy of a slice from a DataFrame.\n",
            "Try using .loc[row_indexer,col_indexer] = value instead\n",
            "\n",
            "See the caveats in the documentation: https://pandas.pydata.org/pandas-docs/stable/user_guide/indexing.html#returning-a-view-versus-a-copy\n",
            "  data[\"text\"] = data[\"text\"].apply(lowercase_text)\n"
          ]
        }
      ]
    },
    {
      "cell_type": "markdown",
      "source": [
        "# Removing punctuations"
      ],
      "metadata": {
        "id": "0gyLYYfoE4E4"
      }
    },
    {
      "cell_type": "code",
      "source": [
        "import string\n",
        "def remove_punctuations(text):\n",
        "    # Using string.punctuation to get the set of punctuation characters\n",
        "    punctuations = string.punctuation\n",
        "    # Removing punctuations from the text\n",
        "    text = ''.join(char for char in text if char not in punctuations)\n",
        "    return text"
      ],
      "metadata": {
        "id": "I5oLL6z0jaTE"
      },
      "execution_count": 15,
      "outputs": []
    },
    {
      "cell_type": "code",
      "source": [
        "data[\"text\"] = data[\"text\"].apply(remove_punctuations)"
      ],
      "metadata": {
        "colab": {
          "base_uri": "https://localhost:8080/"
        },
        "id": "ZwPGrVfHjcsr",
        "outputId": "1a7c5f2e-15e0-43a7-bd97-11bcafd691b3"
      },
      "execution_count": 16,
      "outputs": [
        {
          "output_type": "stream",
          "name": "stderr",
          "text": [
            "<ipython-input-16-6ac9b07c8459>:1: SettingWithCopyWarning: \n",
            "A value is trying to be set on a copy of a slice from a DataFrame.\n",
            "Try using .loc[row_indexer,col_indexer] = value instead\n",
            "\n",
            "See the caveats in the documentation: https://pandas.pydata.org/pandas-docs/stable/user_guide/indexing.html#returning-a-view-versus-a-copy\n",
            "  data[\"text\"] = data[\"text\"].apply(remove_punctuations)\n"
          ]
        }
      ]
    },
    {
      "cell_type": "code",
      "source": [],
      "metadata": {
        "id": "0oEZJxHZFKlD"
      },
      "execution_count": 16,
      "outputs": []
    },
    {
      "cell_type": "markdown",
      "source": [
        "# defing the chatwords and it's abbrevations and replacing them with there abbrevations"
      ],
      "metadata": {
        "id": "xjUtpEmAFWek"
      }
    },
    {
      "cell_type": "code",
      "source": [
        "chatwordss = {\"lol\":\"Laugh Out Loud\",\n",
        "\"brb\":\"Be Right Back\",\n",
        "\"btw\":\"By The Way\",\n",
        "\"idk\":\"I Don't Know\",\n",
        "\"imo\":\"In My Opinion\",\n",
        "\"imho\":\"In My Humble Opinion\",\n",
        "\"omg\":\"Oh My God\",\n",
        "\"rofl\":\"Rolling On The Floor Laughing\",\n",
        "\"ttyl\":\"Talk To You Later\",\n",
        "\"omw\":\"On My Way\",\n",
        "\"afk\":\"Away From Keyboard\",\n",
        "\"b4\":\"Before\",\n",
        "\"cu\":\"See You\",\n",
        "\"jk\":\"Just Kidding\",\n",
        "\"np\":\"No Problem\",\n",
        "\"thx\":\"thanks\",\n",
        "\"yw\":\"You're Welcome\",\n",
        "\"wb\":\"welcome back\",\n",
        "\"gg\":\"good game\",\n",
        "\"gr8\":\"Great\",\n",
        "\"hru\":\"how are you\",\n",
        "\"tyt\":\"take your time\",\n",
        "\"ic\":\"I see\",\n",
        "\"plz\":\"please\",\n",
        "\"sry\":\"sorry\",\n",
        "\"ttyt\":\"talk to you tomorrow\",\n",
        "\"wtf\":\"What The F***\",\n",
        "\"wyd\":\"What You Doing\",\n",
        "\"ily\":\"I Love You\",\n",
        "\"afaik\":\"as far as I know\",\n",
        "\"bfn\":\"bye for now\",\n",
        "\"fwiw\":\"For What It's Worth\",\n",
        "\"hth\":\"hope this helps\",\n",
        "\"irl\":\"In Real Life\",\n",
        "\"l8r\":\"Later\",\n",
        "\"lmk\":\"let me know\",\n",
        "\"rn\":\"right now\",\n",
        "\"tbh\":\"To Be Honest\",\n",
        "\"tmi\":\"Too Much Information\",\n",
        "\"u\":\"you\",\n",
        "\"ur\":\"your\",\n",
        "\"w/e\":\"whatever\",\n",
        "\"wru\":\"where are you\",\n",
        "\"yolo\":\"You Only Live Once\",\n",
        "\"gtg\":\"got to go\",\n",
        "\"fomo\":\"fear of missing out\",\n",
        "\"nsfw\":\"Not Safe For Work\",\n",
        "\"smh\":\"Shaking My Head\",\n",
        "\"tbt\":\"Throwback Thursday\",\n",
        "\"tl;dr\":\"Too Long; Didn't Read\",\n",
        "\"af\":\"as f***\",\n",
        "\"bae\":\"before anyone else\",\n",
        "\"fml\":\"f*** my life\",\n",
        "\"ftw\":\"for the win\",\n",
        "\"idc\":\"I Don't Care\",\n",
        "\"idgaf\":\"I don't give a f***\",\n",
        "\"lmao\":\"Laughing My A** Off\",\n",
        "\"lmfao\":\"Laughing My F***ing A** Off\",\n",
        "\"ofc\":\"of course\",\n",
        "\"omfg\":\"Oh My F***ing God\",\n",
        "\"stfu\":\"Shut The F*** Up\",\n",
        "\"tfw\":\"that feeling when\",\n",
        "\"ty\":\"Thank You\",\n",
        "\"wym\":\"What You Mean\",\n",
        "\"bruh\":\"bro\",\n",
        "\"nvm\":\"Never Mind\",\n",
        "\"jfc\":\"Jesus f***ing Christ\",\n",
        "\"hbu\":\"how about you\",\n",
        "\"ttfn\":\"ta ta for now\",\n",
        "\"tldr\":\"too long didn't read\",\n",
        "\"g2g\":\"got to go\",\n",
        "\"hmu\":\"hit me up\",\n",
        "\"dm\":\"Direct Message\",\n",
        "\"rp\":\"roleplay\",\n",
        "\"icymi\":\"In Case You Missed It\",\n",
        "\"smfh\":\"shaking my f***ing head\",\n",
        "\"lms\":\"like my status\",\n",
        "\"asl\":\"age, sex, location\",\n",
        "\"tf\":\"the f***\",\n",
        "\"nbd\":\"no big deal\",\n",
        "\"gtfo\":\"get the f*** out\",\n",
        "\"tba\":\"to be announced\",\n",
        "\"jic\":\"just in case\",\n",
        "\"wth\":\"What The Hell\",\n",
        "\"ffs\":\"for f***'s sake\",\n",
        "\"pov\":\"point of view\",\n",
        "\"srsly\":\"seriously\",\n",
        "\"tyvm\":\"thank you very much\",\n",
        "\"mt\":\"Modified Tweet\",\n",
        "\"ff\":\"Follow Friday\",\n",
        "\"brt\":\"Be Right There\",\n",
        "\"icydk\":\"In Case You Didn't Know\",\n",
        "\"hbd\":\"Happy Birthday\",\n",
        "\"ht\":\"Hat Tip\",\n",
        "\"ymmv\":\"Your Mileage May Vary\",\n",
        "\"asap\":\"As Soon As Possible\",\n",
        "\"iirc\":\"If I Remember Correctly\",\n",
        "\"ootd\":\"Outfit Of The Day\",\n",
        "\"ot\":\"Off Topic\",\n",
        "\"tgif\":\"Thank God It's Friday\",\n",
        "\"b4n\":\"Bye For Now\",\n",
        "\"b4u\":\"Before You\",\n",
        "\"b4u2\":\"Before You Too\",\n",
        "\"cya\":\"See You\",\n",
        "\"h8\":\"Hate\",\n",
        "\"h9\":\"Hate\",\n",
        "\"2day\":\"Today\",\n",
        "\"2moro\":\"Tomorrow\",\n",
        "\"2nite\":\"Tonight\",\n",
        "\"2mrw\":\"Tomorrow\",\n",
        "\"4get\":\"Forget\",\n",
        "\"l8\":\"Late\",\n",
        "\"10q\":\"Thank You\",\n",
        "\"1ce\":\"Once\",\n",
        "\"b4r\":\"Before\",\n",
        "\"cuz\":\"Because\",\n",
        "\"thnx\":\"Thanks\",\n",
        "\"2c\":\"To See\",\n",
        "\"2l8\":\"Too Late\",\n",
        "\"2q2b4g10q\":\"To Be Or Not To Be Thankful\",\n",
        "\"4eva\":\"Forever\",\n",
        "\"4give\":\"Forgive\",\n",
        "\"4gtn\":\"Forgotten\",\n",
        "\"4gv\":\"Forgive\",\n",
        "\"4nr\":\"Foreigner\",\n",
        "\"rt\":\"Retweet\"}"
      ],
      "metadata": {
        "id": "6Mj7g-Z4jj2f"
      },
      "execution_count": 17,
      "outputs": []
    },
    {
      "cell_type": "code",
      "source": [
        "def remove_chatwords(text):\n",
        "    new_text = []\n",
        "    for w in text.split():\n",
        "        if w in chatwordss:\n",
        "            new_text.append(chatwordss[w])\n",
        "        else:\n",
        "            new_text.append(w)\n",
        "    return \" \".join(new_text)"
      ],
      "metadata": {
        "id": "lSFJRkjojjtq"
      },
      "execution_count": 18,
      "outputs": []
    },
    {
      "cell_type": "code",
      "source": [
        "data[\"text\"] = data[\"text\"].apply(remove_chatwords)"
      ],
      "metadata": {
        "colab": {
          "base_uri": "https://localhost:8080/"
        },
        "id": "r6NF_nGEjjhv",
        "outputId": "978fd5ee-7137-4003-9c10-895e29995b4f"
      },
      "execution_count": 19,
      "outputs": [
        {
          "output_type": "stream",
          "name": "stderr",
          "text": [
            "<ipython-input-19-02fae6b06f1e>:1: SettingWithCopyWarning: \n",
            "A value is trying to be set on a copy of a slice from a DataFrame.\n",
            "Try using .loc[row_indexer,col_indexer] = value instead\n",
            "\n",
            "See the caveats in the documentation: https://pandas.pydata.org/pandas-docs/stable/user_guide/indexing.html#returning-a-view-versus-a-copy\n",
            "  data[\"text\"] = data[\"text\"].apply(remove_chatwords)\n"
          ]
        }
      ]
    },
    {
      "cell_type": "markdown",
      "source": [
        "### may chatwords abbrevations contain the uppercase words or unnecessary puncutaions so removing them all once again"
      ],
      "metadata": {
        "id": "V7Z0FD1FFntr"
      }
    },
    {
      "cell_type": "code",
      "source": [
        "data.text = data.text.apply(lowercase_text)"
      ],
      "metadata": {
        "colab": {
          "base_uri": "https://localhost:8080/"
        },
        "id": "n6Q8ZjDZFnAt",
        "outputId": "5b747c57-c44b-4d20-fb52-8c862f63b6cf"
      },
      "execution_count": 20,
      "outputs": [
        {
          "output_type": "stream",
          "name": "stderr",
          "text": [
            "<ipython-input-20-d27acafa5757>:1: SettingWithCopyWarning: \n",
            "A value is trying to be set on a copy of a slice from a DataFrame.\n",
            "Try using .loc[row_indexer,col_indexer] = value instead\n",
            "\n",
            "See the caveats in the documentation: https://pandas.pydata.org/pandas-docs/stable/user_guide/indexing.html#returning-a-view-versus-a-copy\n",
            "  data.text = data.text.apply(lowercase_text)\n"
          ]
        }
      ]
    },
    {
      "cell_type": "code",
      "source": [
        "data.text = data.text.apply(remove_punctuations)"
      ],
      "metadata": {
        "colab": {
          "base_uri": "https://localhost:8080/"
        },
        "id": "_BlHTuleFm-I",
        "outputId": "498e7d89-8c05-4361-9871-7b4f0a28699d"
      },
      "execution_count": 21,
      "outputs": [
        {
          "output_type": "stream",
          "name": "stderr",
          "text": [
            "<ipython-input-21-8d236a63bdba>:1: SettingWithCopyWarning: \n",
            "A value is trying to be set on a copy of a slice from a DataFrame.\n",
            "Try using .loc[row_indexer,col_indexer] = value instead\n",
            "\n",
            "See the caveats in the documentation: https://pandas.pydata.org/pandas-docs/stable/user_guide/indexing.html#returning-a-view-versus-a-copy\n",
            "  data.text = data.text.apply(remove_punctuations)\n"
          ]
        }
      ]
    },
    {
      "cell_type": "markdown",
      "source": [
        "# Removing the emoji's"
      ],
      "metadata": {
        "id": "t4bhJDaUGGae"
      }
    },
    {
      "cell_type": "code",
      "source": [
        "import re\n",
        "\n",
        "def remove_emojis(text):\n",
        "    emoji_pattern = re.compile(\"[\"\n",
        "                               u\"\\U0001F600-\\U0001F64F\"  # emoticons\n",
        "                               u\"\\U0001F300-\\U0001F5FF\"  # symbols & pictographs\n",
        "                               u\"\\U0001F680-\\U0001F6FF\"  # transport & map symbols\n",
        "                               u\"\\U0001F700-\\U0001F77F\"  # alchemical symbols\n",
        "                               u\"\\U0001F780-\\U0001F7FF\"  # Geometric Shapes Extended\n",
        "                               u\"\\U0001F800-\\U0001F8FF\"  # Supplemental Arrows-C\n",
        "                               u\"\\U0001F900-\\U0001F9FF\"  # Supplemental Symbols and Pictographs\n",
        "                               u\"\\U0001FA00-\\U0001FA6F\"  # Chess Symbols\n",
        "                               u\"\\U0001FA70-\\U0001FAFF\"  # Symbols and Pictographs Extended-A\n",
        "                               u\"\\U00002702-\\U000027B0\"\n",
        "                               u\"\\U00002702-\\U000027B0\"\n",
        "                               u\"\\U000024C2-\\U0001F251\"\n",
        "                               u\"\\U0001f926-\\U0001f937\"\n",
        "                               u\"\\U00010000-\\U0010ffff\"  # Chinese and Japanese characters\n",
        "                               u\"\\u2640-\\u2642\"\n",
        "                               u\"\\u2600-\\u2B55\"\n",
        "                               u\"\\u200d\"\n",
        "                               u\"\\u23cf\"\n",
        "                               u\"\\u23e9\"\n",
        "                               u\"\\u231a\"\n",
        "                               u\"\\ufe0f\"  # dingbats\n",
        "                               u\"\\u3030\"\n",
        "                               \"]+\", flags=re.UNICODE)\n",
        "\n",
        "    # Remove emojis from the text\n",
        "    text = emoji_pattern.sub(r'', text)\n",
        "\n",
        "    return text"
      ],
      "metadata": {
        "id": "u8FGCtJ_jxxr"
      },
      "execution_count": 22,
      "outputs": []
    },
    {
      "cell_type": "code",
      "source": [
        "data[\"text\"] = data[\"text\"].apply(remove_emojis)"
      ],
      "metadata": {
        "colab": {
          "base_uri": "https://localhost:8080/"
        },
        "id": "ivyXxE0sj0Fl",
        "outputId": "f2445e20-ba3f-4465-bfe4-218908ee1d6a"
      },
      "execution_count": 23,
      "outputs": [
        {
          "output_type": "stream",
          "name": "stderr",
          "text": [
            "<ipython-input-23-2a7c0ca92db4>:1: SettingWithCopyWarning: \n",
            "A value is trying to be set on a copy of a slice from a DataFrame.\n",
            "Try using .loc[row_indexer,col_indexer] = value instead\n",
            "\n",
            "See the caveats in the documentation: https://pandas.pydata.org/pandas-docs/stable/user_guide/indexing.html#returning-a-view-versus-a-copy\n",
            "  data[\"text\"] = data[\"text\"].apply(remove_emojis)\n"
          ]
        }
      ]
    },
    {
      "cell_type": "markdown",
      "source": [
        "# Removing the numbers which don't carry weight"
      ],
      "metadata": {
        "id": "xTIWHeZjGRk8"
      }
    },
    {
      "cell_type": "code",
      "source": [
        "import re\n",
        "\n",
        "def remove_numbers(text):\n",
        "    # Regular expression pattern to match numbers\n",
        "    number_pattern = re.compile(r'\\d+')\n",
        "    # Replace numbers with an empty string\n",
        "    text = number_pattern.sub('', text)\n",
        "    return text"
      ],
      "metadata": {
        "id": "SMtW-avvj9Ca"
      },
      "execution_count": 24,
      "outputs": []
    },
    {
      "cell_type": "code",
      "source": [
        "data[\"text\"] = data[\"text\"].apply(remove_numbers)"
      ],
      "metadata": {
        "colab": {
          "base_uri": "https://localhost:8080/"
        },
        "id": "L1obObZXj91Z",
        "outputId": "fdc72b66-521d-4cf9-ab95-f5941d96935c"
      },
      "execution_count": 25,
      "outputs": [
        {
          "output_type": "stream",
          "name": "stderr",
          "text": [
            "<ipython-input-25-c9de7656bb02>:1: SettingWithCopyWarning: \n",
            "A value is trying to be set on a copy of a slice from a DataFrame.\n",
            "Try using .loc[row_indexer,col_indexer] = value instead\n",
            "\n",
            "See the caveats in the documentation: https://pandas.pydata.org/pandas-docs/stable/user_guide/indexing.html#returning-a-view-versus-a-copy\n",
            "  data[\"text\"] = data[\"text\"].apply(remove_numbers)\n"
          ]
        }
      ]
    },
    {
      "cell_type": "markdown",
      "source": [
        "# Remvoing the Whitespace"
      ],
      "metadata": {
        "id": "Gqi9JD6TGohW"
      }
    },
    {
      "cell_type": "code",
      "source": [
        "def remove_extra_whitespace(text):\n",
        "    # Split the text into words and remove empty strings (resulting from consecutive white spaces)\n",
        "    words = text.split()\n",
        "    # Join the words back together with a single space between them\n",
        "    clean_text = ' '.join(words)\n",
        "    return clean_text"
      ],
      "metadata": {
        "id": "Hqx7ReILz5UL"
      },
      "execution_count": 26,
      "outputs": []
    },
    {
      "cell_type": "code",
      "source": [
        "data[\"text\"] = data[\"text\"].apply(remove_extra_whitespace)"
      ],
      "metadata": {
        "colab": {
          "base_uri": "https://localhost:8080/"
        },
        "id": "9OF1cp8pz762",
        "outputId": "664ab08f-2eed-464d-e61e-377c0d360336"
      },
      "execution_count": 27,
      "outputs": [
        {
          "output_type": "stream",
          "name": "stderr",
          "text": [
            "<ipython-input-27-aa96f48376ba>:1: SettingWithCopyWarning: \n",
            "A value is trying to be set on a copy of a slice from a DataFrame.\n",
            "Try using .loc[row_indexer,col_indexer] = value instead\n",
            "\n",
            "See the caveats in the documentation: https://pandas.pydata.org/pandas-docs/stable/user_guide/indexing.html#returning-a-view-versus-a-copy\n",
            "  data[\"text\"] = data[\"text\"].apply(remove_extra_whitespace)\n"
          ]
        }
      ]
    },
    {
      "cell_type": "markdown",
      "source": [
        "# spelling correction using the textblob"
      ],
      "metadata": {
        "id": "QoylhhnnGw_B"
      }
    },
    {
      "cell_type": "code",
      "source": [
        "from textblob import TextBlob\n",
        "def correct_words_with_textblob(text):\n",
        "    # Use TextBlob for spell correction\n",
        "    blob = TextBlob(text)\n",
        "    corrected_text = str(blob.correct())\n",
        "    return corrected_text"
      ],
      "metadata": {
        "id": "B7sggcJRj_zt"
      },
      "execution_count": 28,
      "outputs": []
    },
    {
      "cell_type": "markdown",
      "source": [
        "Since, It taking me lot of time to compile so i going to select the first 10000 sample apply, the methods on it."
      ],
      "metadata": {
        "id": "7NMm_W3qrnh1"
      }
    },
    {
      "cell_type": "code",
      "source": [
        "data[\"text\"] = data[\"text\"].apply(correct_words_with_textblob)"
      ],
      "metadata": {
        "colab": {
          "base_uri": "https://localhost:8080/"
        },
        "id": "wOVjRZl8l4Ao",
        "outputId": "daf7e6d9-354f-4cc9-f3b6-13f2cc707216"
      },
      "execution_count": 29,
      "outputs": [
        {
          "output_type": "stream",
          "name": "stderr",
          "text": [
            "<ipython-input-29-ffb675126979>:1: SettingWithCopyWarning: \n",
            "A value is trying to be set on a copy of a slice from a DataFrame.\n",
            "Try using .loc[row_indexer,col_indexer] = value instead\n",
            "\n",
            "See the caveats in the documentation: https://pandas.pydata.org/pandas-docs/stable/user_guide/indexing.html#returning-a-view-versus-a-copy\n",
            "  data[\"text\"] = data[\"text\"].apply(correct_words_with_textblob)\n"
          ]
        }
      ]
    },
    {
      "cell_type": "code",
      "source": [
        "data.sample(100)"
      ],
      "metadata": {
        "colab": {
          "base_uri": "https://localhost:8080/",
          "height": 423
        },
        "id": "SUVgvOni7JaQ",
        "outputId": "8de47549-36f5-4118-cfaf-fb17483ab13b"
      },
      "execution_count": 30,
      "outputs": [
        {
          "output_type": "execute_result",
          "data": {
            "text/plain": [
              "     tweet_id     author_id  inbound                      created_at  \\\n",
              "7          11    sprintcare    False  Tue Oct 31 22:10:35 +0000 2017   \n",
              "460       765        115870     True  Tue Oct 31 18:20:46 +0000 2017   \n",
              "335       628        115826     True  Tue Oct 31 21:57:24 +0000 2017   \n",
              "349       643        115834     True  Mon Oct 30 23:44:45 +0000 2017   \n",
              "471       776  Uber_Support    False  Tue Oct 31 22:17:58 +0000 2017   \n",
              "..        ...           ...      ...                             ...   \n",
              "470       775        115875     True  Tue Oct 31 21:59:51 +0000 2017   \n",
              "339       633    AmazonHelp    False  Tue Oct 31 22:26:37 +0000 2017   \n",
              "243       333        115797     True  Tue Oct 31 23:44:59 +0000 2017   \n",
              "307       601        115811     True  Tue Oct 31 16:13:35 +0000 2017   \n",
              "18         26        115716     True  Tue Oct 31 22:19:56 +0000 2017   \n",
              "\n",
              "                                                  text response_tweet_id  \\\n",
              "7    this is maddening to hear please shoot us a d ...               NaN   \n",
              "460  after update is no specify on my lock screen a...               764   \n",
              "335  how about you guns figure out my box one proje...               626   \n",
              "349  bought an echo show and it won t recognize a s...               642   \n",
              "471  for more into about user eats availability cli...               NaN   \n",
              "..                                                 ...               ...   \n",
              "470              user support m not getting your texts               774   \n",
              "339  m sorry for the wait please reach out to us so...               NaN   \n",
              "243  air asia support hi have d you my booking and ...               335   \n",
              "307  can connect my interactive broker canada with ...               600   \n",
              "18   ask spectrum received this from your corporate...                27   \n",
              "\n",
              "     in_response_to_tweet_id  \n",
              "7                       12.0  \n",
              "460                      NaN  \n",
              "335                    630.0  \n",
              "349                      NaN  \n",
              "471                    777.0  \n",
              "..                       ...  \n",
              "470                      NaN  \n",
              "339                    634.0  \n",
              "243                    332.0  \n",
              "307                      NaN  \n",
              "18                      25.0  \n",
              "\n",
              "[100 rows x 7 columns]"
            ],
            "text/html": [
              "\n",
              "  <div id=\"df-3869ca6c-0fbe-4b7e-afeb-55328efd03ec\" class=\"colab-df-container\">\n",
              "    <div>\n",
              "<style scoped>\n",
              "    .dataframe tbody tr th:only-of-type {\n",
              "        vertical-align: middle;\n",
              "    }\n",
              "\n",
              "    .dataframe tbody tr th {\n",
              "        vertical-align: top;\n",
              "    }\n",
              "\n",
              "    .dataframe thead th {\n",
              "        text-align: right;\n",
              "    }\n",
              "</style>\n",
              "<table border=\"1\" class=\"dataframe\">\n",
              "  <thead>\n",
              "    <tr style=\"text-align: right;\">\n",
              "      <th></th>\n",
              "      <th>tweet_id</th>\n",
              "      <th>author_id</th>\n",
              "      <th>inbound</th>\n",
              "      <th>created_at</th>\n",
              "      <th>text</th>\n",
              "      <th>response_tweet_id</th>\n",
              "      <th>in_response_to_tweet_id</th>\n",
              "    </tr>\n",
              "  </thead>\n",
              "  <tbody>\n",
              "    <tr>\n",
              "      <th>7</th>\n",
              "      <td>11</td>\n",
              "      <td>sprintcare</td>\n",
              "      <td>False</td>\n",
              "      <td>Tue Oct 31 22:10:35 +0000 2017</td>\n",
              "      <td>this is maddening to hear please shoot us a d ...</td>\n",
              "      <td>NaN</td>\n",
              "      <td>12.0</td>\n",
              "    </tr>\n",
              "    <tr>\n",
              "      <th>460</th>\n",
              "      <td>765</td>\n",
              "      <td>115870</td>\n",
              "      <td>True</td>\n",
              "      <td>Tue Oct 31 18:20:46 +0000 2017</td>\n",
              "      <td>after update is no specify on my lock screen a...</td>\n",
              "      <td>764</td>\n",
              "      <td>NaN</td>\n",
              "    </tr>\n",
              "    <tr>\n",
              "      <th>335</th>\n",
              "      <td>628</td>\n",
              "      <td>115826</td>\n",
              "      <td>True</td>\n",
              "      <td>Tue Oct 31 21:57:24 +0000 2017</td>\n",
              "      <td>how about you guns figure out my box one proje...</td>\n",
              "      <td>626</td>\n",
              "      <td>630.0</td>\n",
              "    </tr>\n",
              "    <tr>\n",
              "      <th>349</th>\n",
              "      <td>643</td>\n",
              "      <td>115834</td>\n",
              "      <td>True</td>\n",
              "      <td>Mon Oct 30 23:44:45 +0000 2017</td>\n",
              "      <td>bought an echo show and it won t recognize a s...</td>\n",
              "      <td>642</td>\n",
              "      <td>NaN</td>\n",
              "    </tr>\n",
              "    <tr>\n",
              "      <th>471</th>\n",
              "      <td>776</td>\n",
              "      <td>Uber_Support</td>\n",
              "      <td>False</td>\n",
              "      <td>Tue Oct 31 22:17:58 +0000 2017</td>\n",
              "      <td>for more into about user eats availability cli...</td>\n",
              "      <td>NaN</td>\n",
              "      <td>777.0</td>\n",
              "    </tr>\n",
              "    <tr>\n",
              "      <th>...</th>\n",
              "      <td>...</td>\n",
              "      <td>...</td>\n",
              "      <td>...</td>\n",
              "      <td>...</td>\n",
              "      <td>...</td>\n",
              "      <td>...</td>\n",
              "      <td>...</td>\n",
              "    </tr>\n",
              "    <tr>\n",
              "      <th>470</th>\n",
              "      <td>775</td>\n",
              "      <td>115875</td>\n",
              "      <td>True</td>\n",
              "      <td>Tue Oct 31 21:59:51 +0000 2017</td>\n",
              "      <td>user support m not getting your texts</td>\n",
              "      <td>774</td>\n",
              "      <td>NaN</td>\n",
              "    </tr>\n",
              "    <tr>\n",
              "      <th>339</th>\n",
              "      <td>633</td>\n",
              "      <td>AmazonHelp</td>\n",
              "      <td>False</td>\n",
              "      <td>Tue Oct 31 22:26:37 +0000 2017</td>\n",
              "      <td>m sorry for the wait please reach out to us so...</td>\n",
              "      <td>NaN</td>\n",
              "      <td>634.0</td>\n",
              "    </tr>\n",
              "    <tr>\n",
              "      <th>243</th>\n",
              "      <td>333</td>\n",
              "      <td>115797</td>\n",
              "      <td>True</td>\n",
              "      <td>Tue Oct 31 23:44:59 +0000 2017</td>\n",
              "      <td>air asia support hi have d you my booking and ...</td>\n",
              "      <td>335</td>\n",
              "      <td>332.0</td>\n",
              "    </tr>\n",
              "    <tr>\n",
              "      <th>307</th>\n",
              "      <td>601</td>\n",
              "      <td>115811</td>\n",
              "      <td>True</td>\n",
              "      <td>Tue Oct 31 16:13:35 +0000 2017</td>\n",
              "      <td>can connect my interactive broker canada with ...</td>\n",
              "      <td>600</td>\n",
              "      <td>NaN</td>\n",
              "    </tr>\n",
              "    <tr>\n",
              "      <th>18</th>\n",
              "      <td>26</td>\n",
              "      <td>115716</td>\n",
              "      <td>True</td>\n",
              "      <td>Tue Oct 31 22:19:56 +0000 2017</td>\n",
              "      <td>ask spectrum received this from your corporate...</td>\n",
              "      <td>27</td>\n",
              "      <td>25.0</td>\n",
              "    </tr>\n",
              "  </tbody>\n",
              "</table>\n",
              "<p>100 rows × 7 columns</p>\n",
              "</div>\n",
              "    <div class=\"colab-df-buttons\">\n",
              "\n",
              "  <div class=\"colab-df-container\">\n",
              "    <button class=\"colab-df-convert\" onclick=\"convertToInteractive('df-3869ca6c-0fbe-4b7e-afeb-55328efd03ec')\"\n",
              "            title=\"Convert this dataframe to an interactive table.\"\n",
              "            style=\"display:none;\">\n",
              "\n",
              "  <svg xmlns=\"http://www.w3.org/2000/svg\" height=\"24px\" viewBox=\"0 -960 960 960\">\n",
              "    <path d=\"M120-120v-720h720v720H120Zm60-500h600v-160H180v160Zm220 220h160v-160H400v160Zm0 220h160v-160H400v160ZM180-400h160v-160H180v160Zm440 0h160v-160H620v160ZM180-180h160v-160H180v160Zm440 0h160v-160H620v160Z\"/>\n",
              "  </svg>\n",
              "    </button>\n",
              "\n",
              "  <style>\n",
              "    .colab-df-container {\n",
              "      display:flex;\n",
              "      gap: 12px;\n",
              "    }\n",
              "\n",
              "    .colab-df-convert {\n",
              "      background-color: #E8F0FE;\n",
              "      border: none;\n",
              "      border-radius: 50%;\n",
              "      cursor: pointer;\n",
              "      display: none;\n",
              "      fill: #1967D2;\n",
              "      height: 32px;\n",
              "      padding: 0 0 0 0;\n",
              "      width: 32px;\n",
              "    }\n",
              "\n",
              "    .colab-df-convert:hover {\n",
              "      background-color: #E2EBFA;\n",
              "      box-shadow: 0px 1px 2px rgba(60, 64, 67, 0.3), 0px 1px 3px 1px rgba(60, 64, 67, 0.15);\n",
              "      fill: #174EA6;\n",
              "    }\n",
              "\n",
              "    .colab-df-buttons div {\n",
              "      margin-bottom: 4px;\n",
              "    }\n",
              "\n",
              "    [theme=dark] .colab-df-convert {\n",
              "      background-color: #3B4455;\n",
              "      fill: #D2E3FC;\n",
              "    }\n",
              "\n",
              "    [theme=dark] .colab-df-convert:hover {\n",
              "      background-color: #434B5C;\n",
              "      box-shadow: 0px 1px 3px 1px rgba(0, 0, 0, 0.15);\n",
              "      filter: drop-shadow(0px 1px 2px rgba(0, 0, 0, 0.3));\n",
              "      fill: #FFFFFF;\n",
              "    }\n",
              "  </style>\n",
              "\n",
              "    <script>\n",
              "      const buttonEl =\n",
              "        document.querySelector('#df-3869ca6c-0fbe-4b7e-afeb-55328efd03ec button.colab-df-convert');\n",
              "      buttonEl.style.display =\n",
              "        google.colab.kernel.accessAllowed ? 'block' : 'none';\n",
              "\n",
              "      async function convertToInteractive(key) {\n",
              "        const element = document.querySelector('#df-3869ca6c-0fbe-4b7e-afeb-55328efd03ec');\n",
              "        const dataTable =\n",
              "          await google.colab.kernel.invokeFunction('convertToInteractive',\n",
              "                                                    [key], {});\n",
              "        if (!dataTable) return;\n",
              "\n",
              "        const docLinkHtml = 'Like what you see? Visit the ' +\n",
              "          '<a target=\"_blank\" href=https://colab.research.google.com/notebooks/data_table.ipynb>data table notebook</a>'\n",
              "          + ' to learn more about interactive tables.';\n",
              "        element.innerHTML = '';\n",
              "        dataTable['output_type'] = 'display_data';\n",
              "        await google.colab.output.renderOutput(dataTable, element);\n",
              "        const docLink = document.createElement('div');\n",
              "        docLink.innerHTML = docLinkHtml;\n",
              "        element.appendChild(docLink);\n",
              "      }\n",
              "    </script>\n",
              "  </div>\n",
              "\n",
              "\n",
              "<div id=\"df-30379a3d-8a7c-4271-8d4f-4ff074fe0521\">\n",
              "  <button class=\"colab-df-quickchart\" onclick=\"quickchart('df-30379a3d-8a7c-4271-8d4f-4ff074fe0521')\"\n",
              "            title=\"Suggest charts\"\n",
              "            style=\"display:none;\">\n",
              "\n",
              "<svg xmlns=\"http://www.w3.org/2000/svg\" height=\"24px\"viewBox=\"0 0 24 24\"\n",
              "     width=\"24px\">\n",
              "    <g>\n",
              "        <path d=\"M19 3H5c-1.1 0-2 .9-2 2v14c0 1.1.9 2 2 2h14c1.1 0 2-.9 2-2V5c0-1.1-.9-2-2-2zM9 17H7v-7h2v7zm4 0h-2V7h2v10zm4 0h-2v-4h2v4z\"/>\n",
              "    </g>\n",
              "</svg>\n",
              "  </button>\n",
              "\n",
              "<style>\n",
              "  .colab-df-quickchart {\n",
              "      --bg-color: #E8F0FE;\n",
              "      --fill-color: #1967D2;\n",
              "      --hover-bg-color: #E2EBFA;\n",
              "      --hover-fill-color: #174EA6;\n",
              "      --disabled-fill-color: #AAA;\n",
              "      --disabled-bg-color: #DDD;\n",
              "  }\n",
              "\n",
              "  [theme=dark] .colab-df-quickchart {\n",
              "      --bg-color: #3B4455;\n",
              "      --fill-color: #D2E3FC;\n",
              "      --hover-bg-color: #434B5C;\n",
              "      --hover-fill-color: #FFFFFF;\n",
              "      --disabled-bg-color: #3B4455;\n",
              "      --disabled-fill-color: #666;\n",
              "  }\n",
              "\n",
              "  .colab-df-quickchart {\n",
              "    background-color: var(--bg-color);\n",
              "    border: none;\n",
              "    border-radius: 50%;\n",
              "    cursor: pointer;\n",
              "    display: none;\n",
              "    fill: var(--fill-color);\n",
              "    height: 32px;\n",
              "    padding: 0;\n",
              "    width: 32px;\n",
              "  }\n",
              "\n",
              "  .colab-df-quickchart:hover {\n",
              "    background-color: var(--hover-bg-color);\n",
              "    box-shadow: 0 1px 2px rgba(60, 64, 67, 0.3), 0 1px 3px 1px rgba(60, 64, 67, 0.15);\n",
              "    fill: var(--button-hover-fill-color);\n",
              "  }\n",
              "\n",
              "  .colab-df-quickchart-complete:disabled,\n",
              "  .colab-df-quickchart-complete:disabled:hover {\n",
              "    background-color: var(--disabled-bg-color);\n",
              "    fill: var(--disabled-fill-color);\n",
              "    box-shadow: none;\n",
              "  }\n",
              "\n",
              "  .colab-df-spinner {\n",
              "    border: 2px solid var(--fill-color);\n",
              "    border-color: transparent;\n",
              "    border-bottom-color: var(--fill-color);\n",
              "    animation:\n",
              "      spin 1s steps(1) infinite;\n",
              "  }\n",
              "\n",
              "  @keyframes spin {\n",
              "    0% {\n",
              "      border-color: transparent;\n",
              "      border-bottom-color: var(--fill-color);\n",
              "      border-left-color: var(--fill-color);\n",
              "    }\n",
              "    20% {\n",
              "      border-color: transparent;\n",
              "      border-left-color: var(--fill-color);\n",
              "      border-top-color: var(--fill-color);\n",
              "    }\n",
              "    30% {\n",
              "      border-color: transparent;\n",
              "      border-left-color: var(--fill-color);\n",
              "      border-top-color: var(--fill-color);\n",
              "      border-right-color: var(--fill-color);\n",
              "    }\n",
              "    40% {\n",
              "      border-color: transparent;\n",
              "      border-right-color: var(--fill-color);\n",
              "      border-top-color: var(--fill-color);\n",
              "    }\n",
              "    60% {\n",
              "      border-color: transparent;\n",
              "      border-right-color: var(--fill-color);\n",
              "    }\n",
              "    80% {\n",
              "      border-color: transparent;\n",
              "      border-right-color: var(--fill-color);\n",
              "      border-bottom-color: var(--fill-color);\n",
              "    }\n",
              "    90% {\n",
              "      border-color: transparent;\n",
              "      border-bottom-color: var(--fill-color);\n",
              "    }\n",
              "  }\n",
              "</style>\n",
              "\n",
              "  <script>\n",
              "    async function quickchart(key) {\n",
              "      const quickchartButtonEl =\n",
              "        document.querySelector('#' + key + ' button');\n",
              "      quickchartButtonEl.disabled = true;  // To prevent multiple clicks.\n",
              "      quickchartButtonEl.classList.add('colab-df-spinner');\n",
              "      try {\n",
              "        const charts = await google.colab.kernel.invokeFunction(\n",
              "            'suggestCharts', [key], {});\n",
              "      } catch (error) {\n",
              "        console.error('Error during call to suggestCharts:', error);\n",
              "      }\n",
              "      quickchartButtonEl.classList.remove('colab-df-spinner');\n",
              "      quickchartButtonEl.classList.add('colab-df-quickchart-complete');\n",
              "    }\n",
              "    (() => {\n",
              "      let quickchartButtonEl =\n",
              "        document.querySelector('#df-30379a3d-8a7c-4271-8d4f-4ff074fe0521 button');\n",
              "      quickchartButtonEl.style.display =\n",
              "        google.colab.kernel.accessAllowed ? 'block' : 'none';\n",
              "    })();\n",
              "  </script>\n",
              "</div>\n",
              "\n",
              "    </div>\n",
              "  </div>\n"
            ]
          },
          "metadata": {},
          "execution_count": 30
        }
      ]
    },
    {
      "cell_type": "markdown",
      "source": [
        "# Stopword removal"
      ],
      "metadata": {
        "id": "ZqJx2LitJLfM"
      }
    },
    {
      "cell_type": "code",
      "source": [
        "import nltk\n",
        "nltk.download('punkt')"
      ],
      "metadata": {
        "id": "LcqCV_hE-7e8",
        "colab": {
          "base_uri": "https://localhost:8080/"
        },
        "outputId": "03c62812-daef-4caf-e89c-c66da91acec3"
      },
      "execution_count": 34,
      "outputs": [
        {
          "output_type": "stream",
          "name": "stderr",
          "text": [
            "[nltk_data] Downloading package punkt to /root/nltk_data...\n",
            "[nltk_data]   Unzipping tokenizers/punkt.zip.\n"
          ]
        },
        {
          "output_type": "execute_result",
          "data": {
            "text/plain": [
              "True"
            ]
          },
          "metadata": {},
          "execution_count": 34
        }
      ]
    },
    {
      "cell_type": "code",
      "source": [
        "from nltk.corpus import stopwords\n",
        "\n",
        "# Download NLTK stopwords list if not already downloaded\n",
        "nltk.download('stopwords', quiet=True)\n",
        "\n",
        "def remove_stopwords(text):\n",
        "    # Get English stopwords from NLTK\n",
        "    english_stopwords = set(stopwords.words('english'))\n",
        "    # Tokenize the text\n",
        "    tokens = nltk.word_tokenize(text)\n",
        "    # Remove stopwords\n",
        "    filtered_tokens = [word for word in tokens if word.lower() not in english_stopwords]\n",
        "    # Join the filtered tokens back into a single string\n",
        "    text = ' '.join(filtered_tokens)\n",
        "    return text"
      ],
      "metadata": {
        "id": "OclnAIEU-uu8"
      },
      "execution_count": 35,
      "outputs": []
    },
    {
      "cell_type": "code",
      "source": [
        "data[\"text\"] = data[\"text\"].apply(remove_stopwords)"
      ],
      "metadata": {
        "colab": {
          "base_uri": "https://localhost:8080/"
        },
        "id": "ESiuD9NO-_Lh",
        "outputId": "01a8d462-b169-4a45-f628-993f3612cb1d"
      },
      "execution_count": 36,
      "outputs": [
        {
          "output_type": "stream",
          "name": "stderr",
          "text": [
            "<ipython-input-36-44754f414dc9>:1: SettingWithCopyWarning: \n",
            "A value is trying to be set on a copy of a slice from a DataFrame.\n",
            "Try using .loc[row_indexer,col_indexer] = value instead\n",
            "\n",
            "See the caveats in the documentation: https://pandas.pydata.org/pandas-docs/stable/user_guide/indexing.html#returning-a-view-versus-a-copy\n",
            "  data[\"text\"] = data[\"text\"].apply(remove_stopwords)\n"
          ]
        }
      ]
    },
    {
      "cell_type": "markdown",
      "source": [
        "# stemming"
      ],
      "metadata": {
        "id": "uAgkZ9rAJRf0"
      }
    },
    {
      "cell_type": "code",
      "source": [
        "from nltk.stem import PorterStemmer\n",
        "nltk.download('punkt', quiet=True)\n",
        "\n",
        "def perform_stemming(text):\n",
        "    # Initialize a Porter stemmer\n",
        "    stemmer = PorterStemmer()\n",
        "    # Tokenize the text\n",
        "    tokens = nltk.word_tokenize(text)\n",
        "    # Stem each token\n",
        "    stemmed_tokens = [stemmer.stem(token) for token in tokens]\n",
        "    # Join the stemmed tokens back into a single string\n",
        "    stemmed_text = ' '.join(stemmed_tokens)\n",
        "    return stemmed_text"
      ],
      "metadata": {
        "id": "ueqI_BgzJFD3"
      },
      "execution_count": 37,
      "outputs": []
    },
    {
      "cell_type": "code",
      "source": [
        "data[\"text\"] = data[\"text\"].apply(perform_stemming)"
      ],
      "metadata": {
        "colab": {
          "base_uri": "https://localhost:8080/"
        },
        "id": "73lmgGYB_8P8",
        "outputId": "8bac7be4-fb87-4de7-a8d8-330fb7c71407"
      },
      "execution_count": 38,
      "outputs": [
        {
          "output_type": "stream",
          "name": "stderr",
          "text": [
            "<ipython-input-38-a3e5ab3bf734>:1: SettingWithCopyWarning: \n",
            "A value is trying to be set on a copy of a slice from a DataFrame.\n",
            "Try using .loc[row_indexer,col_indexer] = value instead\n",
            "\n",
            "See the caveats in the documentation: https://pandas.pydata.org/pandas-docs/stable/user_guide/indexing.html#returning-a-view-versus-a-copy\n",
            "  data[\"text\"] = data[\"text\"].apply(perform_stemming)\n"
          ]
        }
      ]
    },
    {
      "cell_type": "code",
      "source": [
        "\n",
        "from nltk.stem import WordNetLemmatizer\n",
        "from nltk.corpus import wordnet\n",
        "nltk.download('punkt', quiet=True)\n",
        "nltk.download('wordnet', quiet=True)\n",
        "nltk.download('averaged_perceptron_tagger', quiet=True)\n",
        "\n",
        "def perform_lemmatization(text):\n",
        "    # Initialize a WordNet lemmatizer\n",
        "    lemmatizer = WordNetLemmatizer()\n",
        "    # Tokenize the text\n",
        "    tokens = nltk.word_tokenize(text)\n",
        "    # Lemmatize each token\n",
        "    lemmatized_tokens = [lemmatizer.lemmatize(token, get_wordnet_pos(token)) for token in tokens]\n",
        "    # Join the lemmatized tokens back into a single string\n",
        "    lemmatized_text = ' '.join(lemmatized_tokens)\n",
        "    return lemmatized_text\n",
        "\n",
        "def get_wordnet_pos(word):\n",
        "    # Map POS tag to first character lemmatize() accepts\n",
        "    tag = nltk.pos_tag([word])[0][1][0].upper()\n",
        "    tag_dict = {\"J\": wordnet.ADJ,\n",
        "                \"N\": wordnet.NOUN,\n",
        "                \"V\": wordnet.VERB,\n",
        "                \"R\": wordnet.ADV}\n",
        "    return tag_dict.get(tag, wordnet.NOUN)  # Default to noun if no match\n",
        "\n",
        "# Example usage:\n",
        "text = \"The dogs are barking loudly in the garden.\"\n",
        "lemmatized_text = perform_lemmatization(text)\n",
        "print(\"Lemmatized text:\", lemmatized_text)\n"
      ],
      "metadata": {
        "colab": {
          "base_uri": "https://localhost:8080/"
        },
        "id": "-w9TvQlwAPHK",
        "outputId": "a29d1058-3961-49e3-b151-0ef11bae23af"
      },
      "execution_count": 39,
      "outputs": [
        {
          "output_type": "stream",
          "name": "stdout",
          "text": [
            "Lemmatized text: The dog be barking loudly in the garden .\n"
          ]
        }
      ]
    },
    {
      "cell_type": "code",
      "source": [
        "data.text = data.text.apply(perform_lemmatization)"
      ],
      "metadata": {
        "colab": {
          "base_uri": "https://localhost:8080/"
        },
        "id": "bzq_zvbOAPEh",
        "outputId": "b4a14a85-dace-4459-8fd1-2f582075cd06"
      },
      "execution_count": 40,
      "outputs": [
        {
          "output_type": "stream",
          "name": "stderr",
          "text": [
            "<ipython-input-40-cd2d1a7cc018>:1: SettingWithCopyWarning: \n",
            "A value is trying to be set on a copy of a slice from a DataFrame.\n",
            "Try using .loc[row_indexer,col_indexer] = value instead\n",
            "\n",
            "See the caveats in the documentation: https://pandas.pydata.org/pandas-docs/stable/user_guide/indexing.html#returning-a-view-versus-a-copy\n",
            "  data.text = data.text.apply(perform_lemmatization)\n"
          ]
        }
      ]
    },
    {
      "cell_type": "code",
      "source": [
        "data.sample(100)"
      ],
      "metadata": {
        "colab": {
          "base_uri": "https://localhost:8080/",
          "height": 423
        },
        "id": "lKiINXzEAO1g",
        "outputId": "77e6e934-028d-499d-e755-92152758018b"
      },
      "execution_count": 41,
      "outputs": [
        {
          "output_type": "execute_result",
          "data": {
            "text/plain": [
              "     tweet_id       author_id  inbound                      created_at  \\\n",
              "180       253          115768     True  Sun Oct 29 21:02:31 +0000 2017   \n",
              "452       756          115868     True  Tue Oct 31 20:49:07 +0000 2017   \n",
              "63         70  ChipotleTweets    False  Tue Oct 31 22:13:29 +0000 2017   \n",
              "324       619          115820     True  Tue Oct 31 23:32:26 +0000 2017   \n",
              "40         46          115722     True  Tue Oct 31 22:04:29 +0000 2017   \n",
              "..        ...             ...      ...                             ...   \n",
              "54         60  VerizonSupport    False  Tue Oct 31 22:04:29 +0000 2017   \n",
              "314       608          115816     True  Fri Oct 27 15:48:13 +0000 2017   \n",
              "225       316          115785     True  Wed Nov 01 01:13:10 +0000 2017   \n",
              "356       650      AmazonHelp    False  Tue Oct 31 22:24:47 +0000 2017   \n",
              "404       704          115855     True  Tue Oct 31 21:59:17 +0000 2017   \n",
              "\n",
              "                                                  text response_tweet_id  \\\n",
              "180  go pp total stuck hour prior date froze work s...               251   \n",
              "452                                button appl support               755   \n",
              "63                                 hope get point beck               NaN   \n",
              "324  amazon help frankli patienc anoth chat custom ...               NaN   \n",
              "40         hello duke copi bill state servic locat nap                42   \n",
              "..                                                 ...               ...   \n",
              "54                              area locat servic time               NaN   \n",
              "314  worth squeez get u help along way own smallbiz...               607   \n",
              "225  box support kind need make sure bank would nic...               NaN   \n",
              "356           oh want hear experi plea provid feedback               651   \n",
              "404                             appl support look like               703   \n",
              "\n",
              "     in_response_to_tweet_id  \n",
              "180                      NaN  \n",
              "452                      NaN  \n",
              "63                      71.0  \n",
              "324                    618.0  \n",
              "40                      47.0  \n",
              "..                       ...  \n",
              "54                      61.0  \n",
              "314                      NaN  \n",
              "225                    315.0  \n",
              "356                    652.0  \n",
              "404                    705.0  \n",
              "\n",
              "[100 rows x 7 columns]"
            ],
            "text/html": [
              "\n",
              "  <div id=\"df-c60f5658-ba5b-4c0d-8974-cfe91a726d1c\" class=\"colab-df-container\">\n",
              "    <div>\n",
              "<style scoped>\n",
              "    .dataframe tbody tr th:only-of-type {\n",
              "        vertical-align: middle;\n",
              "    }\n",
              "\n",
              "    .dataframe tbody tr th {\n",
              "        vertical-align: top;\n",
              "    }\n",
              "\n",
              "    .dataframe thead th {\n",
              "        text-align: right;\n",
              "    }\n",
              "</style>\n",
              "<table border=\"1\" class=\"dataframe\">\n",
              "  <thead>\n",
              "    <tr style=\"text-align: right;\">\n",
              "      <th></th>\n",
              "      <th>tweet_id</th>\n",
              "      <th>author_id</th>\n",
              "      <th>inbound</th>\n",
              "      <th>created_at</th>\n",
              "      <th>text</th>\n",
              "      <th>response_tweet_id</th>\n",
              "      <th>in_response_to_tweet_id</th>\n",
              "    </tr>\n",
              "  </thead>\n",
              "  <tbody>\n",
              "    <tr>\n",
              "      <th>180</th>\n",
              "      <td>253</td>\n",
              "      <td>115768</td>\n",
              "      <td>True</td>\n",
              "      <td>Sun Oct 29 21:02:31 +0000 2017</td>\n",
              "      <td>go pp total stuck hour prior date froze work s...</td>\n",
              "      <td>251</td>\n",
              "      <td>NaN</td>\n",
              "    </tr>\n",
              "    <tr>\n",
              "      <th>452</th>\n",
              "      <td>756</td>\n",
              "      <td>115868</td>\n",
              "      <td>True</td>\n",
              "      <td>Tue Oct 31 20:49:07 +0000 2017</td>\n",
              "      <td>button appl support</td>\n",
              "      <td>755</td>\n",
              "      <td>NaN</td>\n",
              "    </tr>\n",
              "    <tr>\n",
              "      <th>63</th>\n",
              "      <td>70</td>\n",
              "      <td>ChipotleTweets</td>\n",
              "      <td>False</td>\n",
              "      <td>Tue Oct 31 22:13:29 +0000 2017</td>\n",
              "      <td>hope get point beck</td>\n",
              "      <td>NaN</td>\n",
              "      <td>71.0</td>\n",
              "    </tr>\n",
              "    <tr>\n",
              "      <th>324</th>\n",
              "      <td>619</td>\n",
              "      <td>115820</td>\n",
              "      <td>True</td>\n",
              "      <td>Tue Oct 31 23:32:26 +0000 2017</td>\n",
              "      <td>amazon help frankli patienc anoth chat custom ...</td>\n",
              "      <td>NaN</td>\n",
              "      <td>618.0</td>\n",
              "    </tr>\n",
              "    <tr>\n",
              "      <th>40</th>\n",
              "      <td>46</td>\n",
              "      <td>115722</td>\n",
              "      <td>True</td>\n",
              "      <td>Tue Oct 31 22:04:29 +0000 2017</td>\n",
              "      <td>hello duke copi bill state servic locat nap</td>\n",
              "      <td>42</td>\n",
              "      <td>47.0</td>\n",
              "    </tr>\n",
              "    <tr>\n",
              "      <th>...</th>\n",
              "      <td>...</td>\n",
              "      <td>...</td>\n",
              "      <td>...</td>\n",
              "      <td>...</td>\n",
              "      <td>...</td>\n",
              "      <td>...</td>\n",
              "      <td>...</td>\n",
              "    </tr>\n",
              "    <tr>\n",
              "      <th>54</th>\n",
              "      <td>60</td>\n",
              "      <td>VerizonSupport</td>\n",
              "      <td>False</td>\n",
              "      <td>Tue Oct 31 22:04:29 +0000 2017</td>\n",
              "      <td>area locat servic time</td>\n",
              "      <td>NaN</td>\n",
              "      <td>61.0</td>\n",
              "    </tr>\n",
              "    <tr>\n",
              "      <th>314</th>\n",
              "      <td>608</td>\n",
              "      <td>115816</td>\n",
              "      <td>True</td>\n",
              "      <td>Fri Oct 27 15:48:13 +0000 2017</td>\n",
              "      <td>worth squeez get u help along way own smallbiz...</td>\n",
              "      <td>607</td>\n",
              "      <td>NaN</td>\n",
              "    </tr>\n",
              "    <tr>\n",
              "      <th>225</th>\n",
              "      <td>316</td>\n",
              "      <td>115785</td>\n",
              "      <td>True</td>\n",
              "      <td>Wed Nov 01 01:13:10 +0000 2017</td>\n",
              "      <td>box support kind need make sure bank would nic...</td>\n",
              "      <td>NaN</td>\n",
              "      <td>315.0</td>\n",
              "    </tr>\n",
              "    <tr>\n",
              "      <th>356</th>\n",
              "      <td>650</td>\n",
              "      <td>AmazonHelp</td>\n",
              "      <td>False</td>\n",
              "      <td>Tue Oct 31 22:24:47 +0000 2017</td>\n",
              "      <td>oh want hear experi plea provid feedback</td>\n",
              "      <td>651</td>\n",
              "      <td>652.0</td>\n",
              "    </tr>\n",
              "    <tr>\n",
              "      <th>404</th>\n",
              "      <td>704</td>\n",
              "      <td>115855</td>\n",
              "      <td>True</td>\n",
              "      <td>Tue Oct 31 21:59:17 +0000 2017</td>\n",
              "      <td>appl support look like</td>\n",
              "      <td>703</td>\n",
              "      <td>705.0</td>\n",
              "    </tr>\n",
              "  </tbody>\n",
              "</table>\n",
              "<p>100 rows × 7 columns</p>\n",
              "</div>\n",
              "    <div class=\"colab-df-buttons\">\n",
              "\n",
              "  <div class=\"colab-df-container\">\n",
              "    <button class=\"colab-df-convert\" onclick=\"convertToInteractive('df-c60f5658-ba5b-4c0d-8974-cfe91a726d1c')\"\n",
              "            title=\"Convert this dataframe to an interactive table.\"\n",
              "            style=\"display:none;\">\n",
              "\n",
              "  <svg xmlns=\"http://www.w3.org/2000/svg\" height=\"24px\" viewBox=\"0 -960 960 960\">\n",
              "    <path d=\"M120-120v-720h720v720H120Zm60-500h600v-160H180v160Zm220 220h160v-160H400v160Zm0 220h160v-160H400v160ZM180-400h160v-160H180v160Zm440 0h160v-160H620v160ZM180-180h160v-160H180v160Zm440 0h160v-160H620v160Z\"/>\n",
              "  </svg>\n",
              "    </button>\n",
              "\n",
              "  <style>\n",
              "    .colab-df-container {\n",
              "      display:flex;\n",
              "      gap: 12px;\n",
              "    }\n",
              "\n",
              "    .colab-df-convert {\n",
              "      background-color: #E8F0FE;\n",
              "      border: none;\n",
              "      border-radius: 50%;\n",
              "      cursor: pointer;\n",
              "      display: none;\n",
              "      fill: #1967D2;\n",
              "      height: 32px;\n",
              "      padding: 0 0 0 0;\n",
              "      width: 32px;\n",
              "    }\n",
              "\n",
              "    .colab-df-convert:hover {\n",
              "      background-color: #E2EBFA;\n",
              "      box-shadow: 0px 1px 2px rgba(60, 64, 67, 0.3), 0px 1px 3px 1px rgba(60, 64, 67, 0.15);\n",
              "      fill: #174EA6;\n",
              "    }\n",
              "\n",
              "    .colab-df-buttons div {\n",
              "      margin-bottom: 4px;\n",
              "    }\n",
              "\n",
              "    [theme=dark] .colab-df-convert {\n",
              "      background-color: #3B4455;\n",
              "      fill: #D2E3FC;\n",
              "    }\n",
              "\n",
              "    [theme=dark] .colab-df-convert:hover {\n",
              "      background-color: #434B5C;\n",
              "      box-shadow: 0px 1px 3px 1px rgba(0, 0, 0, 0.15);\n",
              "      filter: drop-shadow(0px 1px 2px rgba(0, 0, 0, 0.3));\n",
              "      fill: #FFFFFF;\n",
              "    }\n",
              "  </style>\n",
              "\n",
              "    <script>\n",
              "      const buttonEl =\n",
              "        document.querySelector('#df-c60f5658-ba5b-4c0d-8974-cfe91a726d1c button.colab-df-convert');\n",
              "      buttonEl.style.display =\n",
              "        google.colab.kernel.accessAllowed ? 'block' : 'none';\n",
              "\n",
              "      async function convertToInteractive(key) {\n",
              "        const element = document.querySelector('#df-c60f5658-ba5b-4c0d-8974-cfe91a726d1c');\n",
              "        const dataTable =\n",
              "          await google.colab.kernel.invokeFunction('convertToInteractive',\n",
              "                                                    [key], {});\n",
              "        if (!dataTable) return;\n",
              "\n",
              "        const docLinkHtml = 'Like what you see? Visit the ' +\n",
              "          '<a target=\"_blank\" href=https://colab.research.google.com/notebooks/data_table.ipynb>data table notebook</a>'\n",
              "          + ' to learn more about interactive tables.';\n",
              "        element.innerHTML = '';\n",
              "        dataTable['output_type'] = 'display_data';\n",
              "        await google.colab.output.renderOutput(dataTable, element);\n",
              "        const docLink = document.createElement('div');\n",
              "        docLink.innerHTML = docLinkHtml;\n",
              "        element.appendChild(docLink);\n",
              "      }\n",
              "    </script>\n",
              "  </div>\n",
              "\n",
              "\n",
              "<div id=\"df-84ffe889-f31a-4a94-8c2c-ebdaef5d5ea2\">\n",
              "  <button class=\"colab-df-quickchart\" onclick=\"quickchart('df-84ffe889-f31a-4a94-8c2c-ebdaef5d5ea2')\"\n",
              "            title=\"Suggest charts\"\n",
              "            style=\"display:none;\">\n",
              "\n",
              "<svg xmlns=\"http://www.w3.org/2000/svg\" height=\"24px\"viewBox=\"0 0 24 24\"\n",
              "     width=\"24px\">\n",
              "    <g>\n",
              "        <path d=\"M19 3H5c-1.1 0-2 .9-2 2v14c0 1.1.9 2 2 2h14c1.1 0 2-.9 2-2V5c0-1.1-.9-2-2-2zM9 17H7v-7h2v7zm4 0h-2V7h2v10zm4 0h-2v-4h2v4z\"/>\n",
              "    </g>\n",
              "</svg>\n",
              "  </button>\n",
              "\n",
              "<style>\n",
              "  .colab-df-quickchart {\n",
              "      --bg-color: #E8F0FE;\n",
              "      --fill-color: #1967D2;\n",
              "      --hover-bg-color: #E2EBFA;\n",
              "      --hover-fill-color: #174EA6;\n",
              "      --disabled-fill-color: #AAA;\n",
              "      --disabled-bg-color: #DDD;\n",
              "  }\n",
              "\n",
              "  [theme=dark] .colab-df-quickchart {\n",
              "      --bg-color: #3B4455;\n",
              "      --fill-color: #D2E3FC;\n",
              "      --hover-bg-color: #434B5C;\n",
              "      --hover-fill-color: #FFFFFF;\n",
              "      --disabled-bg-color: #3B4455;\n",
              "      --disabled-fill-color: #666;\n",
              "  }\n",
              "\n",
              "  .colab-df-quickchart {\n",
              "    background-color: var(--bg-color);\n",
              "    border: none;\n",
              "    border-radius: 50%;\n",
              "    cursor: pointer;\n",
              "    display: none;\n",
              "    fill: var(--fill-color);\n",
              "    height: 32px;\n",
              "    padding: 0;\n",
              "    width: 32px;\n",
              "  }\n",
              "\n",
              "  .colab-df-quickchart:hover {\n",
              "    background-color: var(--hover-bg-color);\n",
              "    box-shadow: 0 1px 2px rgba(60, 64, 67, 0.3), 0 1px 3px 1px rgba(60, 64, 67, 0.15);\n",
              "    fill: var(--button-hover-fill-color);\n",
              "  }\n",
              "\n",
              "  .colab-df-quickchart-complete:disabled,\n",
              "  .colab-df-quickchart-complete:disabled:hover {\n",
              "    background-color: var(--disabled-bg-color);\n",
              "    fill: var(--disabled-fill-color);\n",
              "    box-shadow: none;\n",
              "  }\n",
              "\n",
              "  .colab-df-spinner {\n",
              "    border: 2px solid var(--fill-color);\n",
              "    border-color: transparent;\n",
              "    border-bottom-color: var(--fill-color);\n",
              "    animation:\n",
              "      spin 1s steps(1) infinite;\n",
              "  }\n",
              "\n",
              "  @keyframes spin {\n",
              "    0% {\n",
              "      border-color: transparent;\n",
              "      border-bottom-color: var(--fill-color);\n",
              "      border-left-color: var(--fill-color);\n",
              "    }\n",
              "    20% {\n",
              "      border-color: transparent;\n",
              "      border-left-color: var(--fill-color);\n",
              "      border-top-color: var(--fill-color);\n",
              "    }\n",
              "    30% {\n",
              "      border-color: transparent;\n",
              "      border-left-color: var(--fill-color);\n",
              "      border-top-color: var(--fill-color);\n",
              "      border-right-color: var(--fill-color);\n",
              "    }\n",
              "    40% {\n",
              "      border-color: transparent;\n",
              "      border-right-color: var(--fill-color);\n",
              "      border-top-color: var(--fill-color);\n",
              "    }\n",
              "    60% {\n",
              "      border-color: transparent;\n",
              "      border-right-color: var(--fill-color);\n",
              "    }\n",
              "    80% {\n",
              "      border-color: transparent;\n",
              "      border-right-color: var(--fill-color);\n",
              "      border-bottom-color: var(--fill-color);\n",
              "    }\n",
              "    90% {\n",
              "      border-color: transparent;\n",
              "      border-bottom-color: var(--fill-color);\n",
              "    }\n",
              "  }\n",
              "</style>\n",
              "\n",
              "  <script>\n",
              "    async function quickchart(key) {\n",
              "      const quickchartButtonEl =\n",
              "        document.querySelector('#' + key + ' button');\n",
              "      quickchartButtonEl.disabled = true;  // To prevent multiple clicks.\n",
              "      quickchartButtonEl.classList.add('colab-df-spinner');\n",
              "      try {\n",
              "        const charts = await google.colab.kernel.invokeFunction(\n",
              "            'suggestCharts', [key], {});\n",
              "      } catch (error) {\n",
              "        console.error('Error during call to suggestCharts:', error);\n",
              "      }\n",
              "      quickchartButtonEl.classList.remove('colab-df-spinner');\n",
              "      quickchartButtonEl.classList.add('colab-df-quickchart-complete');\n",
              "    }\n",
              "    (() => {\n",
              "      let quickchartButtonEl =\n",
              "        document.querySelector('#df-84ffe889-f31a-4a94-8c2c-ebdaef5d5ea2 button');\n",
              "      quickchartButtonEl.style.display =\n",
              "        google.colab.kernel.accessAllowed ? 'block' : 'none';\n",
              "    })();\n",
              "  </script>\n",
              "</div>\n",
              "\n",
              "    </div>\n",
              "  </div>\n"
            ]
          },
          "metadata": {},
          "execution_count": 41
        }
      ]
    },
    {
      "cell_type": "markdown",
      "source": [
        "# Tokenization"
      ],
      "metadata": {
        "id": "HAzLiZ__Jw6b"
      }
    },
    {
      "cell_type": "code",
      "source": [
        "nltk.download('punkt')"
      ],
      "metadata": {
        "colab": {
          "base_uri": "https://localhost:8080/"
        },
        "id": "yagcPCD3lY_f",
        "outputId": "56e7c9f7-d50e-46b3-c7e9-ab2b7f3eb643"
      },
      "execution_count": 42,
      "outputs": [
        {
          "output_type": "stream",
          "name": "stderr",
          "text": [
            "[nltk_data] Downloading package punkt to /root/nltk_data...\n",
            "[nltk_data]   Package punkt is already up-to-date!\n"
          ]
        },
        {
          "output_type": "execute_result",
          "data": {
            "text/plain": [
              "True"
            ]
          },
          "metadata": {},
          "execution_count": 42
        }
      ]
    },
    {
      "cell_type": "code",
      "source": [
        "from nltk.tokenize import word_tokenize\n",
        "\n",
        "def tokenize_text(text):\n",
        "    # Tokenize the text using NLTK's word_tokenize function\n",
        "    tokens = word_tokenize(text)\n",
        "    return tokens"
      ],
      "metadata": {
        "id": "seid0Px_lJQ4"
      },
      "execution_count": 43,
      "outputs": []
    },
    {
      "cell_type": "code",
      "source": [
        "data[\"text\"] = data[\"text\"].apply(tokenize_text)"
      ],
      "metadata": {
        "colab": {
          "base_uri": "https://localhost:8080/"
        },
        "id": "KCn_V1FylN_6",
        "outputId": "139da2c8-5828-4fcd-ba00-719a15db9bbf"
      },
      "execution_count": 44,
      "outputs": [
        {
          "output_type": "stream",
          "name": "stderr",
          "text": [
            "<ipython-input-44-402a9abe038b>:1: SettingWithCopyWarning: \n",
            "A value is trying to be set on a copy of a slice from a DataFrame.\n",
            "Try using .loc[row_indexer,col_indexer] = value instead\n",
            "\n",
            "See the caveats in the documentation: https://pandas.pydata.org/pandas-docs/stable/user_guide/indexing.html#returning-a-view-versus-a-copy\n",
            "  data[\"text\"] = data[\"text\"].apply(tokenize_text)\n"
          ]
        }
      ]
    },
    {
      "cell_type": "code",
      "source": [
        "sample = data[\"text\"].head(10)"
      ],
      "metadata": {
        "id": "BR5jqKwSlVGV"
      },
      "execution_count": 46,
      "outputs": []
    },
    {
      "cell_type": "code",
      "source": [
        "sample"
      ],
      "metadata": {
        "colab": {
          "base_uri": "https://localhost:8080/"
        },
        "id": "-QcOTnYyvptA",
        "outputId": "34e70669-ce1c-48be-ca0d-3f48937982e5"
      },
      "execution_count": 47,
      "outputs": [
        {
          "output_type": "execute_result",
          "data": {
            "text/plain": [
              "0    [understand, would, like, assist, would, need,...\n",
              "1                                  [sprintcar, propos]\n",
              "2    [sprintcar, sent, sever, privat, messag, one, ...\n",
              "3    [plea, send, u, privat, messag, assist, click,...\n",
              "4                                          [sprintcar]\n",
              "5    [plea, send, u, privat, messag, gain, detail, ...\n",
              "6                     [sprintcar, bad, custom, servic]\n",
              "7              [madden, hear, plea, shoot, u, look, c]\n",
              "8    [sprintcar, donna, magic, chang, conduct, whol...\n",
              "9    [understand, concern, like, plea, send, u, dir...\n",
              "Name: text, dtype: object"
            ]
          },
          "metadata": {},
          "execution_count": 47
        }
      ]
    },
    {
      "cell_type": "code",
      "source": [
        "def preprocess_texts(texts):\n",
        "    # Create an empty set to store unique words\n",
        "    vocabulary = set()\n",
        "\n",
        "    # Iterate through each text in the input list of texts\n",
        "    for text in texts:\n",
        "        # Convert the text to lowercase and split into words\n",
        "        words = text.lower().split()\n",
        "        # Add the words to the vocabulary set\n",
        "        vocabulary.update(words)\n",
        "\n",
        "    # Convert the set of unique words to a list and sort it\n",
        "    vocabulary = sorted(list(vocabulary))\n",
        "\n",
        "    # Create a dictionary to store the index of each word in the vocabulary\n",
        "    word_to_index = {word: index for index, word in enumerate(vocabulary)}\n",
        "\n",
        "    # Return the vocabulary and word_to_index dictionary\n",
        "    return vocabulary, word_to_index\n"
      ],
      "metadata": {
        "id": "aICQnM9aKtYS"
      },
      "execution_count": 53,
      "outputs": []
    },
    {
      "cell_type": "code",
      "source": [
        "data[\"bag_words\"] = data[\"text\"].apply(preprocess_texts)"
      ],
      "metadata": {
        "colab": {
          "base_uri": "https://localhost:8080/"
        },
        "id": "5D43QxaKxAAy",
        "outputId": "60406803-630a-4a7f-95e5-0a1b2383cef6"
      },
      "execution_count": 54,
      "outputs": [
        {
          "output_type": "stream",
          "name": "stderr",
          "text": [
            "<ipython-input-54-a4e159539b7c>:1: SettingWithCopyWarning: \n",
            "A value is trying to be set on a copy of a slice from a DataFrame.\n",
            "Try using .loc[row_indexer,col_indexer] = value instead\n",
            "\n",
            "See the caveats in the documentation: https://pandas.pydata.org/pandas-docs/stable/user_guide/indexing.html#returning-a-view-versus-a-copy\n",
            "  data[\"bag_words\"] = data[\"text\"].apply(preprocess_texts)\n"
          ]
        }
      ]
    },
    {
      "cell_type": "code",
      "source": [
        "for i in range(20):\n",
        "  print(data.bag_words.iloc[i])"
      ],
      "metadata": {
        "colab": {
          "base_uri": "https://localhost:8080/"
        },
        "id": "xs8eBAu7yg9P",
        "outputId": "36a1e337-1136-4a2c-faec-b508a4ab166e"
      },
      "execution_count": 79,
      "outputs": [
        {
          "output_type": "stream",
          "name": "stdout",
          "text": [
            "(['assist', 'get', 'like', 'link', 'need', 'privat', 'secur', 'understand', 'would'], {'assist': 0, 'get': 1, 'like': 2, 'link': 3, 'need': 4, 'privat': 5, 'secur': 6, 'understand': 7, 'would': 8})\n",
            "(['propos', 'sprintcar'], {'propos': 0, 'sprintcar': 1})\n",
            "(['messag', 'one', 'privat', 'respond', 'sent', 'sever', 'sprintcar', 'usual'], {'messag': 0, 'one': 1, 'privat': 2, 'respond': 3, 'sent': 4, 'sever': 5, 'sprintcar': 6, 'usual': 7})\n",
            "(['assist', 'click', 'messag', 'plea', 'privat', 'profil', 'send', 'top', 'u'], {'assist': 0, 'click': 1, 'messag': 2, 'plea': 3, 'privat': 4, 'profil': 5, 'send': 6, 'top': 7, 'u': 8})\n",
            "(['sprintcar'], {'sprintcar': 0})\n",
            "(['account', 'detail', 'gain', 'messag', 'plea', 'privat', 'send', 'u'], {'account': 0, 'detail': 1, 'gain': 2, 'messag': 3, 'plea': 4, 'privat': 5, 'send': 6, 'u': 7})\n",
            "(['bad', 'custom', 'servic', 'sprintcar'], {'bad': 0, 'custom': 1, 'servic': 2, 'sprintcar': 3})\n",
            "(['c', 'hear', 'look', 'madden', 'plea', 'shoot', 'u'], {'c': 0, 'hear': 1, 'look': 2, 'madden': 3, 'plea': 4, 'shoot': 5, 'u': 6})\n",
            "(['chang', 'conduct', 'donna', 'famili', 'magic', 'sprintcar', 'whole'], {'chang': 0, 'conduct': 1, 'donna': 2, 'famili': 3, 'magic': 4, 'sprintcar': 5, 'whole': 6})\n",
            "(['assist', 'concern', 'direct', 'like', 'messag', 'plea', 'send', 'u', 'understand'], {'assist': 0, 'concern': 1, 'direct': 2, 'like': 3, 'messag': 4, 'plea': 5, 'send': 6, 'u': 7, 'understand': 8})\n",
            "(['day', 'sign', 'sinc', 'sprintcar'], {'day': 0, 'sign': 1, 'sinc': 2, 'sprintcar': 3})\n",
            "(['definit', 'experienc', 'issu', 'like', 'long', 'work'], {'definit': 0, 'experienc': 1, 'issu': 2, 'like': 3, 'long': 4, 'work': 5})\n",
            "(['bar', 'connect', 'great', 'head', 'lie', 'load', 'shake', 'someth', 'still'], {'bar': 0, 'connect': 1, 'great': 2, 'head': 3, 'lie': 4, 'load': 5, 'shake': 6, 'someth': 7, 'still': 8})\n",
            "(['access', 'account', 'fr', 'link', 'messag', 'plea', 'privat', 'send'], {'access': 0, 'account': 1, 'fr': 2, 'link': 3, 'messag': 4, 'plea': 5, 'privat': 6, 'send': 7})\n",
            "(['account', 'contact', 'custom', 'enabl', 'never', 'shortcod', 'support', 'tell', 'tri', 'whenev', 'year'], {'account': 0, 'contact': 1, 'custom': 2, 'enabl': 3, 'never': 4, 'shortcod': 5, 'support': 6, 'tell': 7, 'tri': 8, 'whenev': 9, 'year': 10})\n",
            "(['bid', 'incorrect', 'inform'], {'bid': 0, 'incorrect': 1, 'inform': 2})\n",
            "(['ask', 'copi', 'date', 'email', 'like', 'one', 'sinc', 'spectrum', 'train', 'would'], {'ask': 0, 'copi': 1, 'date': 2, 'email': 3, 'like': 4, 'one': 5, 'sinc': 6, 'spectrum': 7, 'train': 8, 'would': 9})\n",
            "(['area', 'corpor', 'depart', 'format', 'go', 'offic', 'part', 'particular', 'unawar'], {'area': 0, 'corpor': 1, 'depart': 2, 'format': 3, 'go': 4, 'offic': 5, 'part': 6, 'particular': 7, 'unawar': 8})\n",
            "(['ask', 'copi', 'corpor', 'like', 'offic', 'receiv', 'spectrum', 'would'], {'ask': 0, 'copi': 1, 'corpor': 2, 'like': 3, 'offic': 4, 'receiv': 5, 'spectrum': 6, 'would': 7})\n",
            "(['bid', 'thank'], {'bid': 0, 'thank': 1})\n"
          ]
        }
      ]
    },
    {
      "cell_type": "markdown",
      "source": [
        "# Advantages and disadvantages of One-hot encoding\n",
        "\n",
        "## Advantages:\n",
        "i)  One-hot encoding is straightforward to implement and understand. It does not require any complex computations or algorithms.\n",
        "\n",
        "ii) One-hot encoding preserves the categorical information of the original data, making it suitable for algorithms that cannot directly process categorical variables.\n",
        "\n",
        "iii) Each category is represented by its own binary feature, ensuring that the features are orthogonal (independent) from each other. This can be advantageous for some machine learning algorithms that assume feature independence.\n",
        "\n",
        "iv)  The resulting encoded features are easily interpretable. Each binary feature indicates the presence or absence of a particular category.\n",
        "\n",
        "## Disadvantages:\n",
        "\n",
        "i) It can lead to a high-dimensional feature space, especially when we dealing with categorical variables with many unique categories. It can increase the computational complexity and memory requirements of models.\n",
        "\n",
        "ii) It does not capture any ordinal relationship between categories. All categories are treated as equally dissimilar, which may not reflect the actual relationship between categories in the data.\n",
        "\n",
        "iii) In datasets with a large number of unique categories, most of the encoded vectors will consist of zeros, resulting in a sparse representation. Sparse matrices can be inefficient in terms of storage and computation.\n",
        "\n",
        "iv) It is designed for categorical variables and is not suitable for continuous variables. Trying to apply one-hot encoding to continuous variables may result in an explosion of dimensions and loss of information.\n",
        "\n"
      ],
      "metadata": {
        "id": "NK1LfwznOlfl"
      }
    },
    {
      "cell_type": "markdown",
      "source": [
        "# Advantages and Disadvantages of bag of words (BOW)\n",
        "\n",
        "\n",
        "## Advantages\n",
        "i) The BOW model is simple to understand and implement. It treats each document as a collection of words, disregarding grammar and word order, making it straightforward to generate feature vectors.\n",
        "\n",
        "ii)BOW can be applied to various natural language processing (NLP) tasks, including text classification, sentiment analysis, and information retrieval.\n",
        "\n",
        "iii)It is computationally efficient, especially for large datasets, as it only requires counting the occurrences of each word in the document corpus.\n",
        "\n",
        "iv)It does not rely on specific language rules or structures, making it applicable to any language.  \n",
        "\n",
        "v)It can easily handle new words or terms that were not present in the training data by adding new dimensions to the feature vector.\n",
        "\n",
        "## Disadvantages\n",
        "\n",
        "i) BOW disregards the sequence and context of words within the document, leading to the loss of important semantic information. This can result in a loss of meaning, especially in tasks where word order matters, such as language generation or translation.\n",
        "\n",
        "ii) It representation often leads to high-dimensional sparse vectors, especially when dealing with a large vocabulary or corpus. This can increase computational complexity and memory requirements, and it may require dimensionality reduction techniques.\n",
        "\n",
        "iii) It treats each word as an independent entity and does not capture the semantic relationships between words. Consequently, it may struggle with polysemy (multiple meanings of a word) and homonymy (same spelling, different meanings) since it represents each word by a unique feature.\n",
        "\n",
        "iv)It cannot handle out-of-vocabulary words effectively, as it only considers words seen during training. Out-of-vocabulary words are either ignored or represented as zero counts, which may lead to information loss.\n",
        "\n",
        "v) BoW may not perform well with short texts, such as tweets or product reviews, where the context and semantics play a crucial role, but the word frequency is low."
      ],
      "metadata": {
        "id": "uCvBFfdlP5kf"
      }
    },
    {
      "cell_type": "markdown",
      "source": [
        "# Advantages and disadvantages of N-grams\n",
        "\n",
        "## Advantages of N-gram\n",
        "\n",
        "i) N-grams preserve local word context, enabling better understanding of meaning within short segments of text.\n",
        "\n",
        "ii) It offer flexibility in capturing different levels of linguistic information, from individual words to phrases or chunks.\n",
        "\n",
        "iii) N-grams are widely used in language modeling tasks, facilitating accurate prediction of next words or phrases based on context.\n",
        "\n",
        "iv) In certain applications like machine translation or speech recognition, N-grams can improve performance by incorporating contextual information.\n",
        "\n",
        "## Disadvantages of N-gram\n",
        "\n",
        "i) With larger values of N, the occurrence of specific N-grams decreases, leading to data sparsity issues and less reliable statistics.\n",
        "\n",
        "ii) As N increases, the dimensionality of the feature space grows exponentially, making computation and storage more challenging.\n",
        "\n",
        "iii) Storing and processing N-grams requires significant memory resources, particularly for large corpora or high-order N-grams.\n",
        "\n",
        "iv) N-grams may struggle to capture long-range dependencies or syntactic structures, limiting their ability to generalize effectively across different types of text or languages."
      ],
      "metadata": {
        "id": "s2-eCFqSRRX9"
      }
    },
    {
      "cell_type": "code",
      "source": [],
      "metadata": {
        "id": "_V_GfoLcOlRt"
      },
      "execution_count": null,
      "outputs": []
    }
  ]
}